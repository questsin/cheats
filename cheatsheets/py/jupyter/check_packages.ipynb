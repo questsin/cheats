{
 "cells": [
  {
   "cell_type": "code",
   "execution_count": null,
   "outputs": [],
   "source": [],
   "metadata": {
    "collapsed": false,
    "pycharm": {
     "name": "#%%\n"
    }
   }
  },
  {
   "cell_type": "code",
   "execution_count": null,
   "outputs": [],
   "source": [],
   "metadata": {
    "collapsed": false,
    "pycharm": {
     "name": "#%%\n"
    }
   }
  },
  {
   "metadata": {
    "trusted": true
   },
   "cell_type": "code",
   "source": [
    "import sqlite3\n",
    "sqlite3.version"
   ],
   "execution_count": 1,
   "outputs": [
    {
     "output_type": "execute_result",
     "execution_count": 1,
     "data": {
      "text/plain": "'2.6.0'"
     },
     "metadata": {}
    }
   ]
  },
  {
   "metadata": {
    "trusted": true,
    "pycharm": {
     "is_executing": false
    }
   },
   "cell_type": "code",
   "source": "import pandas as pd\npd.__version__",
   "execution_count": 1,
   "outputs": [
    {
     "traceback": [
      "\u001b[1;31m---------------------------------------------------------------------------\u001b[0m",
      "\u001b[1;31mModuleNotFoundError\u001b[0m                       Traceback (most recent call last)",
      "\u001b[1;32m<ipython-input-1-e4680618b426>\u001b[0m in \u001b[0;36m<module>\u001b[1;34m\u001b[0m\n\u001b[1;32m----> 1\u001b[1;33m \u001b[1;32mimport\u001b[0m \u001b[0mpandas\u001b[0m \u001b[1;32mas\u001b[0m \u001b[0mpd\u001b[0m\u001b[1;33m\u001b[0m\u001b[1;33m\u001b[0m\u001b[0m\n\u001b[0m\u001b[0;32m      2\u001b[0m \u001b[0mpd\u001b[0m\u001b[1;33m.\u001b[0m\u001b[0m__version__\u001b[0m\u001b[1;33m\u001b[0m\u001b[1;33m\u001b[0m\u001b[0m\n\u001b[0;32m      3\u001b[0m \u001b[1;33m\u001b[0m\u001b[0m\n",
      "\u001b[1;31mModuleNotFoundError\u001b[0m: No module named 'pandas'"
     ],
     "ename": "ModuleNotFoundError",
     "evalue": "No module named 'pandas'",
     "output_type": "error"
    }
   ]
  },
  {
   "metadata": {
    "trusted": true
   },
   "cell_type": "code",
   "source": "import numpy\nnumpy.version.version",
   "execution_count": 3,
   "outputs": [
    {
     "output_type": "execute_result",
     "execution_count": 3,
     "data": {
      "text/plain": "'1.16.2'"
     },
     "metadata": {}
    }
   ]
  },
  {
   "metadata": {
    "trusted": true
   },
   "cell_type": "code",
   "source": "import sklearn\nprint('The scikit-learn version is {}.'.format(sklearn.__version__))\n",
   "execution_count": 4,
   "outputs": [
    {
     "output_type": "stream",
     "text": "The scikit-learn version is 0.20.3.\n",
     "name": "stdout"
    }
   ]
  },
  {
   "metadata": {
    "trusted": true
   },
   "cell_type": "code",
   "source": "import keras\nprint(keras.__version__)",
   "execution_count": 5,
   "outputs": [
    {
     "output_type": "stream",
     "text": "Using TensorFlow backend.\n",
     "name": "stderr"
    },
    {
     "output_type": "stream",
     "text": "2.3.1\n",
     "name": "stdout"
    }
   ]
  },
  {
   "metadata": {
    "trusted": true
   },
   "cell_type": "code",
   "source": "import tensorflow as tf\nprint(tf.__version__)",
   "execution_count": 6,
   "outputs": [
    {
     "output_type": "stream",
     "text": "2.0.0-beta1\n",
     "name": "stdout"
    }
   ]
  },
  {
   "metadata": {
    "trusted": true
   },
   "cell_type": "code",
   "source": "!pip install qgrid\nimport qgrid",
   "execution_count": 7,
   "outputs": [
    {
     "output_type": "stream",
     "text": "Requirement already satisfied: qgrid in /home/nbuser/anaconda3_501/lib/python3.6/site-packages (1.1.1)\nRequirement already satisfied: pandas>=0.18.0 in /home/nbuser/anaconda3_501/lib/python3.6/site-packages (from qgrid) (0.23.4)\nRequirement already satisfied: ipywidgets>=7.0.0 in /home/nbuser/anaconda3_501/lib/python3.6/site-packages (from qgrid) (7.5.1)\nRequirement already satisfied: notebook>=4.0.0 in /home/nbuser/anaconda3_501/lib/python3.6/site-packages (from qgrid) (5.7.2)\nRequirement already satisfied: numpy>=1.9.0 in /home/nbuser/anaconda3_501/lib/python3.6/site-packages (from pandas>=0.18.0->qgrid) (1.16.2)\nRequirement already satisfied: python-dateutil>=2.5.0 in /home/nbuser/anaconda3_501/lib/python3.6/site-packages (from pandas>=0.18.0->qgrid) (2.8.1)\nRequirement already satisfied: pytz>=2011k in /home/nbuser/anaconda3_501/lib/python3.6/site-packages (from pandas>=0.18.0->qgrid) (2019.3)\nRequirement already satisfied: ipython>=4.0.0; python_version >= \"3.3\" in /home/nbuser/anaconda3_501/lib/python3.6/site-packages (from ipywidgets>=7.0.0->qgrid) (7.1.1)\nRequirement already satisfied: traitlets>=4.3.1 in /home/nbuser/anaconda3_501/lib/python3.6/site-packages (from ipywidgets>=7.0.0->qgrid) (4.3.2)\nRequirement already satisfied: nbformat>=4.2.0 in /home/nbuser/anaconda3_501/lib/python3.6/site-packages (from ipywidgets>=7.0.0->qgrid) (4.4.0)\nRequirement already satisfied: widgetsnbextension~=3.5.0 in /home/nbuser/anaconda3_501/lib/python3.6/site-packages (from ipywidgets>=7.0.0->qgrid) (3.5.1)\nRequirement already satisfied: ipykernel>=4.5.1 in /home/nbuser/anaconda3_501/lib/python3.6/site-packages (from ipywidgets>=7.0.0->qgrid) (5.1.3)\nRequirement already satisfied: ipython-genutils in /home/nbuser/anaconda3_501/lib/python3.6/site-packages (from notebook>=4.0.0->qgrid) (0.2.0)\nRequirement already satisfied: tornado>=4 in /home/nbuser/anaconda3_501/lib/python3.6/site-packages (from notebook>=4.0.0->qgrid) (4.5.3)\nRequirement already satisfied: Send2Trash in /home/nbuser/anaconda3_501/lib/python3.6/site-packages (from notebook>=4.0.0->qgrid) (1.5.0)\nRequirement already satisfied: jupyter-core>=4.4.0 in /home/nbuser/anaconda3_501/lib/python3.6/site-packages (from notebook>=4.0.0->qgrid) (4.4.0)\nRequirement already satisfied: prometheus-client in /home/nbuser/anaconda3_501/lib/python3.6/site-packages (from notebook>=4.0.0->qgrid) (0.4.2)\nRequirement already satisfied: nbconvert in /home/nbuser/anaconda3_501/lib/python3.6/site-packages (from notebook>=4.0.0->qgrid) (5.6.1)\nRequirement already satisfied: jinja2 in /home/nbuser/anaconda3_501/lib/python3.6/site-packages (from notebook>=4.0.0->qgrid) (2.10)\nRequirement already satisfied: jupyter-client>=5.2.0 in /home/nbuser/anaconda3_501/lib/python3.6/site-packages (from notebook>=4.0.0->qgrid) (5.2.3)\nRequirement already satisfied: terminado>=0.8.1 in /home/nbuser/anaconda3_501/lib/python3.6/site-packages (from notebook>=4.0.0->qgrid) (0.8.1)\nRequirement already satisfied: pyzmq>=17 in /home/nbuser/anaconda3_501/lib/python3.6/site-packages (from notebook>=4.0.0->qgrid) (17.1.2)\nRequirement already satisfied: six>=1.5 in /home/nbuser/anaconda3_501/lib/python3.6/site-packages (from python-dateutil>=2.5.0->pandas>=0.18.0->qgrid) (1.11.0)\nRequirement already satisfied: setuptools>=18.5 in /home/nbuser/anaconda3_501/lib/python3.6/site-packages (from ipython>=4.0.0; python_version >= \"3.3\"->ipywidgets>=7.0.0->qgrid) (41.6.0)\nRequirement already satisfied: jedi>=0.10 in /home/nbuser/anaconda3_501/lib/python3.6/site-packages (from ipython>=4.0.0; python_version >= \"3.3\"->ipywidgets>=7.0.0->qgrid) (0.13.1)\nRequirement already satisfied: pygments in /home/nbuser/anaconda3_501/lib/python3.6/site-packages (from ipython>=4.0.0; python_version >= \"3.3\"->ipywidgets>=7.0.0->qgrid) (2.2.0)\nRequirement already satisfied: backcall in /home/nbuser/anaconda3_501/lib/python3.6/site-packages (from ipython>=4.0.0; python_version >= \"3.3\"->ipywidgets>=7.0.0->qgrid) (0.1.0)\nRequirement already satisfied: pickleshare in /home/nbuser/anaconda3_501/lib/python3.6/site-packages (from ipython>=4.0.0; python_version >= \"3.3\"->ipywidgets>=7.0.0->qgrid) (0.7.5)\nRequirement already satisfied: decorator in /home/nbuser/anaconda3_501/lib/python3.6/site-packages (from ipython>=4.0.0; python_version >= \"3.3\"->ipywidgets>=7.0.0->qgrid) (4.3.0)\nRequirement already satisfied: prompt-toolkit<2.1.0,>=2.0.0 in /home/nbuser/anaconda3_501/lib/python3.6/site-packages (from ipython>=4.0.0; python_version >= \"3.3\"->ipywidgets>=7.0.0->qgrid) (2.0.7)\nRequirement already satisfied: pexpect; sys_platform != \"win32\" in /home/nbuser/anaconda3_501/lib/python3.6/site-packages (from ipython>=4.0.0; python_version >= \"3.3\"->ipywidgets>=7.0.0->qgrid) (4.6.0)\nRequirement already satisfied: jsonschema!=2.5.0,>=2.4 in /home/nbuser/anaconda3_501/lib/python3.6/site-packages (from nbformat>=4.2.0->ipywidgets>=7.0.0->qgrid) (2.6.0)\nRequirement already satisfied: mistune<2,>=0.8.1 in /home/nbuser/anaconda3_501/lib/python3.6/site-packages (from nbconvert->notebook>=4.0.0->qgrid) (0.8.4)\nRequirement already satisfied: testpath in /home/nbuser/anaconda3_501/lib/python3.6/site-packages (from nbconvert->notebook>=4.0.0->qgrid) (0.4.2)\nRequirement already satisfied: pandocfilters>=1.4.1 in /home/nbuser/anaconda3_501/lib/python3.6/site-packages (from nbconvert->notebook>=4.0.0->qgrid) (1.4.2)\nRequirement already satisfied: bleach in /home/nbuser/anaconda3_501/lib/python3.6/site-packages (from nbconvert->notebook>=4.0.0->qgrid) (1.5.0)\nRequirement already satisfied: defusedxml in /home/nbuser/anaconda3_501/lib/python3.6/site-packages (from nbconvert->notebook>=4.0.0->qgrid) (0.5.0)\nRequirement already satisfied: entrypoints>=0.2.2 in /home/nbuser/anaconda3_501/lib/python3.6/site-packages (from nbconvert->notebook>=4.0.0->qgrid) (0.2.3)\nRequirement already satisfied: MarkupSafe>=0.23 in /home/nbuser/anaconda3_501/lib/python3.6/site-packages (from jinja2->notebook>=4.0.0->qgrid) (1.1.0)\nRequirement already satisfied: parso>=0.3.0 in /home/nbuser/anaconda3_501/lib/python3.6/site-packages (from jedi>=0.10->ipython>=4.0.0; python_version >= \"3.3\"->ipywidgets>=7.0.0->qgrid) (0.3.1)\nRequirement already satisfied: wcwidth in /home/nbuser/anaconda3_501/lib/python3.6/site-packages (from prompt-toolkit<2.1.0,>=2.0.0->ipython>=4.0.0; python_version >= \"3.3\"->ipywidgets>=7.0.0->qgrid) (0.1.7)\nRequirement already satisfied: ptyprocess>=0.5 in /home/nbuser/anaconda3_501/lib/python3.6/site-packages (from pexpect; sys_platform != \"win32\"->ipython>=4.0.0; python_version >= \"3.3\"->ipywidgets>=7.0.0->qgrid) (0.6.0)\nRequirement already satisfied: html5lib!=0.9999,!=0.99999,<0.99999999,>=0.999 in /home/nbuser/anaconda3_501/lib/python3.6/site-packages (from bleach->nbconvert->notebook>=4.0.0->qgrid) (0.9999999)\n",
     "name": "stdout"
    }
   ]
  },
  {
   "metadata": {
    "trusted": true
   },
   "cell_type": "code",
   "source": "!pip install pixiedust\nimport pixiedust",
   "execution_count": 8,
   "outputs": [
    {
     "output_type": "stream",
     "text": "Requirement already satisfied: pixiedust in /home/nbuser/anaconda3_501/lib/python3.6/site-packages (1.1.18)\nRequirement already satisfied: requests in /home/nbuser/anaconda3_501/lib/python3.6/site-packages (from pixiedust) (2.22.0)\nRequirement already satisfied: markdown in /home/nbuser/anaconda3_501/lib/python3.6/site-packages (from pixiedust) (3.0.1)\nRequirement already satisfied: lxml in /home/nbuser/anaconda3_501/lib/python3.6/site-packages (from pixiedust) (4.2.5)\nRequirement already satisfied: astunparse in /home/nbuser/anaconda3_501/lib/python3.6/site-packages (from pixiedust) (1.6.2)\nRequirement already satisfied: colour in /home/nbuser/anaconda3_501/lib/python3.6/site-packages (from pixiedust) (0.1.5)\nRequirement already satisfied: geojson in /home/nbuser/anaconda3_501/lib/python3.6/site-packages (from pixiedust) (2.5.0)\nRequirement already satisfied: mpld3 in /home/nbuser/anaconda3_501/lib/python3.6/site-packages (from pixiedust) (0.3)\nRequirement already satisfied: urllib3!=1.25.0,!=1.25.1,<1.26,>=1.21.1 in /home/nbuser/anaconda3_501/lib/python3.6/site-packages (from requests->pixiedust) (1.23)\nRequirement already satisfied: chardet<3.1.0,>=3.0.2 in /home/nbuser/anaconda3_501/lib/python3.6/site-packages (from requests->pixiedust) (3.0.4)\nRequirement already satisfied: idna<2.9,>=2.5 in /home/nbuser/anaconda3_501/lib/python3.6/site-packages (from requests->pixiedust) (2.7)\nRequirement already satisfied: certifi>=2017.4.17 in /home/nbuser/anaconda3_501/lib/python3.6/site-packages (from requests->pixiedust) (2018.10.15)\nRequirement already satisfied: six<2.0,>=1.6.1 in /home/nbuser/anaconda3_501/lib/python3.6/site-packages (from astunparse->pixiedust) (1.11.0)\nRequirement already satisfied: wheel<1.0,>=0.23.0 in /home/nbuser/anaconda3_501/lib/python3.6/site-packages (from astunparse->pixiedust) (0.30.0)\nPixiedust database opened successfully\n",
     "name": "stdout"
    },
    {
     "output_type": "display_data",
     "data": {
      "text/html": "\n        <div style=\"margin:10px\">\n            <a href=\"https://github.com/ibm-watson-data-lab/pixiedust\" target=\"_new\">\n                <img src=\"https://github.com/ibm-watson-data-lab/pixiedust/raw/master/docs/_static/pd_icon32.png\" style=\"float:left;margin-right:10px\"/>\n            </a>\n            <span>Pixiedust version 1.1.18</span>\n        </div>\n        ",
      "text/plain": "<IPython.core.display.HTML object>"
     },
     "metadata": {}
    },
    {
     "output_type": "stream",
     "text": "Table service_connections created successfully\n",
     "name": "stdout"
    }
   ]
  },
  {
   "metadata": {
    "trusted": true
   },
   "cell_type": "code",
   "source": "!pip install pixiedust_node\nimport pixiedust_node\n",
   "execution_count": 10,
   "outputs": [
    {
     "output_type": "stream",
     "text": "Collecting pixiedust_node\n  Downloading https://files.pythonhosted.org/packages/f0/ea/7c92581d0e046d61d482c3d30bed52fe9febf485243b50f76909371557a0/pixiedust_node-0.2.5.tar.gz\nRequirement already satisfied: pixiedust in /home/nbuser/anaconda3_501/lib/python3.6/site-packages (from pixiedust_node) (1.1.18)\nRequirement already satisfied: pandas in /home/nbuser/anaconda3_501/lib/python3.6/site-packages (from pixiedust_node) (0.23.4)\nRequirement already satisfied: ipython in /home/nbuser/anaconda3_501/lib/python3.6/site-packages (from pixiedust_node) (7.1.1)\nRequirement already satisfied: astunparse in /home/nbuser/anaconda3_501/lib/python3.6/site-packages (from pixiedust->pixiedust_node) (1.6.2)\nRequirement already satisfied: lxml in /home/nbuser/anaconda3_501/lib/python3.6/site-packages (from pixiedust->pixiedust_node) (4.2.5)\nRequirement already satisfied: colour in /home/nbuser/anaconda3_501/lib/python3.6/site-packages (from pixiedust->pixiedust_node) (0.1.5)\nRequirement already satisfied: mpld3 in /home/nbuser/anaconda3_501/lib/python3.6/site-packages (from pixiedust->pixiedust_node) (0.3)\nRequirement already satisfied: geojson in /home/nbuser/anaconda3_501/lib/python3.6/site-packages (from pixiedust->pixiedust_node) (2.5.0)\nRequirement already satisfied: requests in /home/nbuser/anaconda3_501/lib/python3.6/site-packages (from pixiedust->pixiedust_node) (2.22.0)\nRequirement already satisfied: markdown in /home/nbuser/anaconda3_501/lib/python3.6/site-packages (from pixiedust->pixiedust_node) (3.0.1)\nRequirement already satisfied: pytz>=2011k in /home/nbuser/anaconda3_501/lib/python3.6/site-packages (from pandas->pixiedust_node) (2019.3)\nRequirement already satisfied: python-dateutil>=2.5.0 in /home/nbuser/anaconda3_501/lib/python3.6/site-packages (from pandas->pixiedust_node) (2.8.1)\nRequirement already satisfied: numpy>=1.9.0 in /home/nbuser/anaconda3_501/lib/python3.6/site-packages (from pandas->pixiedust_node) (1.16.2)\nRequirement already satisfied: prompt-toolkit<2.1.0,>=2.0.0 in /home/nbuser/anaconda3_501/lib/python3.6/site-packages (from ipython->pixiedust_node) (2.0.7)\nRequirement already satisfied: setuptools>=18.5 in /home/nbuser/anaconda3_501/lib/python3.6/site-packages (from ipython->pixiedust_node) (41.6.0)\nRequirement already satisfied: pickleshare in /home/nbuser/anaconda3_501/lib/python3.6/site-packages (from ipython->pixiedust_node) (0.7.5)\nRequirement already satisfied: jedi>=0.10 in /home/nbuser/anaconda3_501/lib/python3.6/site-packages (from ipython->pixiedust_node) (0.13.1)\nRequirement already satisfied: pygments in /home/nbuser/anaconda3_501/lib/python3.6/site-packages (from ipython->pixiedust_node) (2.2.0)\nRequirement already satisfied: backcall in /home/nbuser/anaconda3_501/lib/python3.6/site-packages (from ipython->pixiedust_node) (0.1.0)\nRequirement already satisfied: pexpect; sys_platform != \"win32\" in /home/nbuser/anaconda3_501/lib/python3.6/site-packages (from ipython->pixiedust_node) (4.6.0)\nRequirement already satisfied: decorator in /home/nbuser/anaconda3_501/lib/python3.6/site-packages (from ipython->pixiedust_node) (4.3.0)\nRequirement already satisfied: traitlets>=4.2 in /home/nbuser/anaconda3_501/lib/python3.6/site-packages (from ipython->pixiedust_node) (4.3.2)\nRequirement already satisfied: six<2.0,>=1.6.1 in /home/nbuser/anaconda3_501/lib/python3.6/site-packages (from astunparse->pixiedust->pixiedust_node) (1.11.0)\nRequirement already satisfied: wheel<1.0,>=0.23.0 in /home/nbuser/anaconda3_501/lib/python3.6/site-packages (from astunparse->pixiedust->pixiedust_node) (0.30.0)\nRequirement already satisfied: urllib3!=1.25.0,!=1.25.1,<1.26,>=1.21.1 in /home/nbuser/anaconda3_501/lib/python3.6/site-packages (from requests->pixiedust->pixiedust_node) (1.23)\nRequirement already satisfied: certifi>=2017.4.17 in /home/nbuser/anaconda3_501/lib/python3.6/site-packages (from requests->pixiedust->pixiedust_node) (2018.10.15)\nRequirement already satisfied: chardet<3.1.0,>=3.0.2 in /home/nbuser/anaconda3_501/lib/python3.6/site-packages (from requests->pixiedust->pixiedust_node) (3.0.4)\nRequirement already satisfied: idna<2.9,>=2.5 in /home/nbuser/anaconda3_501/lib/python3.6/site-packages (from requests->pixiedust->pixiedust_node) (2.7)\nRequirement already satisfied: wcwidth in /home/nbuser/anaconda3_501/lib/python3.6/site-packages (from prompt-toolkit<2.1.0,>=2.0.0->ipython->pixiedust_node) (0.1.7)\nRequirement already satisfied: parso>=0.3.0 in /home/nbuser/anaconda3_501/lib/python3.6/site-packages (from jedi>=0.10->ipython->pixiedust_node) (0.3.1)\nRequirement already satisfied: ptyprocess>=0.5 in /home/nbuser/anaconda3_501/lib/python3.6/site-packages (from pexpect; sys_platform != \"win32\"->ipython->pixiedust_node) (0.6.0)\nRequirement already satisfied: ipython-genutils in /home/nbuser/anaconda3_501/lib/python3.6/site-packages (from traitlets>=4.2->ipython->pixiedust_node) (0.2.0)\nBuilding wheels for collected packages: pixiedust-node\n  Building wheel for pixiedust-node (setup.py) ... \u001b[?25ldone\n\u001b[?25h  Created wheel for pixiedust-node: filename=pixiedust_node-0.2.5-py2.py3-none-any.whl size=10192 sha256=0017a5a0fa15d55c7a9819cae099d15f970abfd9901c33e2bac72add0687ce28\n  Stored in directory: /home/nbuser/.cache/pip/wheels/0e/6f/bc/b15e5b57deddd8d035afc9f61b1c6e474f3789b3fa95999126\nSuccessfully built pixiedust-node\nInstalling collected packages: pixiedust-node\nSuccessfully installed pixiedust-node-0.2.5\n",
     "name": "stdout"
    },
    {
     "output_type": "display_data",
     "data": {
      "text/html": "\n            <div style=\"margin:10px\"> \n            <a href=\"https://github.com/ibm-cds-labs/pixiedust_node\" target=\"_new\"> \n            <img src=\"https://github.com/ibm-cds-labs/pixiedust_node/raw/master/docs/_images/pdn_icon32.png\" style=\"float:left;margin-right:10px\"/> \n            </a> \n            <span>Pixiedust Node.js</span> \n            </div> \n",
      "text/plain": "<IPython.core.display.HTML object>"
     },
     "metadata": {}
    }
   ]
  },
  {
   "metadata": {
    "pixiedust": {
     "displayParams": {
      "handlerId": "lineChart"
     }
    },
    "trusted": true
   },
   "cell_type": "code",
   "source": "%%node\nvar data = [];\nfor (var i = 0; i < 1000; i++) {\n    var x = 2*Math.PI * i/ 360;\n    var obj = {\n      x: x,\n      i: i,\n      sin: Math.sin(x),\n      cos: Math.cos(x),\n      tan: Math.tan(x)\n    };\n    data.push(obj);\n}\ndisplay(data);",
   "execution_count": 11,
   "outputs": [
    {
     "data": {
      "text/html": "<style type=\"text/css\">.pd_warning{display:none;}</style><div class=\"pd_warning\"><em>Hey, there's something awesome here! To see it, open this notebook outside GitHub, in a viewer like Jupyter</em></div>",
      "text/plain": "<IPython.core.display.HTML object>"
     },
     "metadata": {
      "pixieapp_metadata": null
     },
     "output_type": "display_data"
    }
   ]
  },
  {
   "metadata": {
    "trusted": true
   },
   "cell_type": "code",
   "source": "",
   "execution_count": null,
   "outputs": []
  }
 ],
 "metadata": {
  "kernelspec": {
   "name": "python3",
   "language": "python",
   "display_name": "Python 3"
  },
  "language_info": {
   "mimetype": "text/x-python",
   "nbconvert_exporter": "python",
   "name": "python",
   "pygments_lexer": "ipython3",
   "version": "3.6.6",
   "file_extension": ".py",
   "codemirror_mode": {
    "version": 3,
    "name": "ipython"
   }
  },
  "pycharm": {
   "stem_cell": {
    "cell_type": "raw",
    "source": [],
    "metadata": {
     "collapsed": false
    }
   }
  }
 },
 "nbformat": 4,
 "nbformat_minor": 2
}