{
 "cells": [
  {
   "cell_type": "code",
   "execution_count": 8,
   "outputs": [
    {
     "name": "stderr",
     "text": [
      "c:\\users\\nicholas.manolakos\\appdata\\local\\programs\\python\\python38-32\\python.exe: Error while finding module specification for 'pip3.8' (ModuleNotFoundError: No module named 'pip3')\n",
      "c:\\users\\nicholas.manolakos\\appdata\\local\\programs\\python\\python38-32\\python.exe: Error while finding module specification for 'pip3.8' (ModuleNotFoundError: No module named 'pip3')\n",
      "c:\\users\\nicholas.manolakos\\appdata\\local\\programs\\python\\python38-32\\python.exe: Error while finding module specification for 'pip3.8' (ModuleNotFoundError: No module named 'pip3')\n",
      "c:\\users\\nicholas.manolakos\\appdata\\local\\programs\\python\\python38-32\\python.exe: Error while finding module specification for 'pip3.8' (ModuleNotFoundError: No module named 'pip3')\n",
      "c:\\users\\nicholas.manolakos\\appdata\\local\\programs\\python\\python38-32\\python.exe: Error while finding module specification for 'pip3.8' (ModuleNotFoundError: No module named 'pip3')\n",
      "c:\\users\\nicholas.manolakos\\appdata\\local\\programs\\python\\python38-32\\python.exe: Error while finding module specification for 'pip3.8' (ModuleNotFoundError: No module named 'pip3')\n",
      "c:\\users\\nicholas.manolakos\\appdata\\local\\programs\\python\\python38-32\\python.exe: Error while finding module specification for 'pip3.8' (ModuleNotFoundError: No module named 'pip3')\n",
      "c:\\users\\nicholas.manolakos\\appdata\\local\\programs\\python\\python38-32\\python.exe: Error while finding module specification for 'pip3.8' (ModuleNotFoundError: No module named 'pip3')\n",
      "c:\\users\\nicholas.manolakos\\appdata\\local\\programs\\python\\python38-32\\python.exe: Error while finding module specification for 'pip3.8' (ModuleNotFoundError: No module named 'pip3')\n"
     ],
     "output_type": "stream"
    }
   ],
   "source": [
    "# Install a pip package in the current Jupyter kernel\n",
    "import sys\n",
    "!{sys.executable} -m pip3.8 install numpy\n",
    "!{sys.executable} -m pip3.8 install pandas\n",
    "!{sys.executable} -m pip3.8 install sqlite3\n",
    "!{sys.executable} -m pip3.8 install sklearn\n",
    "!{sys.executable} -m pip3.8 install keras\n",
    "!{sys.executable} -m pip3.8 install tensorflow\n",
    "!{sys.executable} -m pip3.8 install qgrid\n",
    "!{sys.executable} -m pip3.8 install pixiedust\n",
    "!{sys.executable} -m pip3.8 install pixiedust_node"
   ],
   "metadata": {
    "collapsed": false,
    "pycharm": {
     "name": "#%%\n",
     "is_executing": false
    }
   }
  },
  {
   "metadata": {
    "trusted": true,
    "pycharm": {
     "is_executing": false
    }
   },
   "cell_type": "code",
   "source": [
    "import sqlite3\n",
    "sqlite3.version"
   ],
   "execution_count": 9,
   "outputs": [
    {
     "data": {
      "text/plain": "'2.6.0'"
     },
     "metadata": {},
     "output_type": "execute_result",
     "execution_count": 9
    }
   ]
  },
  {
   "metadata": {
    "trusted": true,
    "pycharm": {
     "is_executing": false
    }
   },
   "cell_type": "code",
   "source": [
    "#!pip3.8 install pandas\n",
    "import pandas as pd\n",
    "pd.__version__"
   ],
   "execution_count": 15,
   "outputs": [
    {
     "data": {
      "text/plain": "'1.0.1'"
     },
     "metadata": {},
     "output_type": "execute_result",
     "execution_count": 15
    }
   ]
  },
  {
   "metadata": {
    "trusted": true,
    "pycharm": {
     "is_executing": false
    }
   },
   "cell_type": "code",
   "source": [
    "import numpy\n",
    "numpy.version.version"
   ],
   "execution_count": 16,
   "outputs": [
    {
     "data": {
      "text/plain": "'1.18.1'"
     },
     "metadata": {},
     "output_type": "execute_result",
     "execution_count": 16
    }
   ]
  },
  {
   "metadata": {
    "trusted": true,
    "pycharm": {
     "is_executing": false
    }
   },
   "cell_type": "code",
   "source": [
    "#!pip3.8 install sklearn\n",
    "import sklearn\n",
    "print('The scikit-learn version is {}.'.format(sklearn.__version__))\n"
   ],
   "execution_count": 22,
   "outputs": [
    {
     "name": "stdout",
     "text": [
      "The scikit-learn version is 0.22.1.\n"
     ],
     "output_type": "stream"
    }
   ]
  },
  {
   "metadata": {
    "trusted": true,
    "pycharm": {
     "is_executing": false
    }
   },
   "cell_type": "code",
   "source": [
    "#!pip3.8 install keras\n",
    "import keras\n",
    "print(keras.__version__)"
   ],
   "execution_count": 25,
   "outputs": [
    {
     "name": "stderr",
     "text": [
      "Using TensorFlow backend.\n"
     ],
     "output_type": "stream"
    },
    {
     "traceback": [
      "\u001b[1;31m---------------------------------------------------------------------------\u001b[0m",
      "\u001b[1;31mModuleNotFoundError\u001b[0m                       Traceback (most recent call last)",
      "\u001b[1;32m<ipython-input-25-0b2222cb6d71>\u001b[0m in \u001b[0;36m<module>\u001b[1;34m\u001b[0m\n\u001b[0;32m      1\u001b[0m \u001b[1;31m#!pip3.8 install keras\u001b[0m\u001b[1;33m\u001b[0m\u001b[1;33m\u001b[0m\u001b[1;33m\u001b[0m\u001b[0m\n\u001b[1;32m----> 2\u001b[1;33m \u001b[1;32mimport\u001b[0m \u001b[0mkeras\u001b[0m\u001b[1;33m\u001b[0m\u001b[1;33m\u001b[0m\u001b[0m\n\u001b[0m\u001b[0;32m      3\u001b[0m \u001b[0mprint\u001b[0m\u001b[1;33m(\u001b[0m\u001b[0mkeras\u001b[0m\u001b[1;33m.\u001b[0m\u001b[0m__version__\u001b[0m\u001b[1;33m)\u001b[0m\u001b[1;33m\u001b[0m\u001b[1;33m\u001b[0m\u001b[0m\n\u001b[0;32m      4\u001b[0m \u001b[1;33m\u001b[0m\u001b[0m\n",
      "\u001b[1;32mc:\\users\\nicholas.manolakos\\appdata\\local\\programs\\python\\python38-32\\lib\\site-packages\\keras\\__init__.py\u001b[0m in \u001b[0;36m<module>\u001b[1;34m\u001b[0m\n\u001b[0;32m      1\u001b[0m \u001b[1;32mfrom\u001b[0m \u001b[0m__future__\u001b[0m \u001b[1;32mimport\u001b[0m \u001b[0mabsolute_import\u001b[0m\u001b[1;33m\u001b[0m\u001b[1;33m\u001b[0m\u001b[0m\n\u001b[0;32m      2\u001b[0m \u001b[1;33m\u001b[0m\u001b[0m\n\u001b[1;32m----> 3\u001b[1;33m \u001b[1;32mfrom\u001b[0m \u001b[1;33m.\u001b[0m \u001b[1;32mimport\u001b[0m \u001b[0mutils\u001b[0m\u001b[1;33m\u001b[0m\u001b[1;33m\u001b[0m\u001b[0m\n\u001b[0m\u001b[0;32m      4\u001b[0m \u001b[1;32mfrom\u001b[0m \u001b[1;33m.\u001b[0m \u001b[1;32mimport\u001b[0m \u001b[0mactivations\u001b[0m\u001b[1;33m\u001b[0m\u001b[1;33m\u001b[0m\u001b[0m\n\u001b[0;32m      5\u001b[0m \u001b[1;32mfrom\u001b[0m \u001b[1;33m.\u001b[0m \u001b[1;32mimport\u001b[0m \u001b[0mapplications\u001b[0m\u001b[1;33m\u001b[0m\u001b[1;33m\u001b[0m\u001b[0m\n",
      "\u001b[1;32mc:\\users\\nicholas.manolakos\\appdata\\local\\programs\\python\\python38-32\\lib\\site-packages\\keras\\utils\\__init__.py\u001b[0m in \u001b[0;36m<module>\u001b[1;34m\u001b[0m\n\u001b[0;32m      4\u001b[0m \u001b[1;32mfrom\u001b[0m \u001b[1;33m.\u001b[0m \u001b[1;32mimport\u001b[0m \u001b[0mdata_utils\u001b[0m\u001b[1;33m\u001b[0m\u001b[1;33m\u001b[0m\u001b[0m\n\u001b[0;32m      5\u001b[0m \u001b[1;32mfrom\u001b[0m \u001b[1;33m.\u001b[0m \u001b[1;32mimport\u001b[0m \u001b[0mio_utils\u001b[0m\u001b[1;33m\u001b[0m\u001b[1;33m\u001b[0m\u001b[0m\n\u001b[1;32m----> 6\u001b[1;33m \u001b[1;32mfrom\u001b[0m \u001b[1;33m.\u001b[0m \u001b[1;32mimport\u001b[0m \u001b[0mconv_utils\u001b[0m\u001b[1;33m\u001b[0m\u001b[1;33m\u001b[0m\u001b[0m\n\u001b[0m\u001b[0;32m      7\u001b[0m \u001b[1;32mfrom\u001b[0m \u001b[1;33m.\u001b[0m \u001b[1;32mimport\u001b[0m \u001b[0mlosses_utils\u001b[0m\u001b[1;33m\u001b[0m\u001b[1;33m\u001b[0m\u001b[0m\n\u001b[0;32m      8\u001b[0m \u001b[1;32mfrom\u001b[0m \u001b[1;33m.\u001b[0m \u001b[1;32mimport\u001b[0m \u001b[0mmetrics_utils\u001b[0m\u001b[1;33m\u001b[0m\u001b[1;33m\u001b[0m\u001b[0m\n",
      "\u001b[1;32mc:\\users\\nicholas.manolakos\\appdata\\local\\programs\\python\\python38-32\\lib\\site-packages\\keras\\utils\\conv_utils.py\u001b[0m in \u001b[0;36m<module>\u001b[1;34m\u001b[0m\n\u001b[0;32m      7\u001b[0m \u001b[1;32mfrom\u001b[0m \u001b[0msix\u001b[0m\u001b[1;33m.\u001b[0m\u001b[0mmoves\u001b[0m \u001b[1;32mimport\u001b[0m \u001b[0mrange\u001b[0m\u001b[1;33m\u001b[0m\u001b[1;33m\u001b[0m\u001b[0m\n\u001b[0;32m      8\u001b[0m \u001b[1;32mimport\u001b[0m \u001b[0mnumpy\u001b[0m \u001b[1;32mas\u001b[0m \u001b[0mnp\u001b[0m\u001b[1;33m\u001b[0m\u001b[1;33m\u001b[0m\u001b[0m\n\u001b[1;32m----> 9\u001b[1;33m \u001b[1;32mfrom\u001b[0m \u001b[1;33m.\u001b[0m\u001b[1;33m.\u001b[0m \u001b[1;32mimport\u001b[0m \u001b[0mbackend\u001b[0m \u001b[1;32mas\u001b[0m \u001b[0mK\u001b[0m\u001b[1;33m\u001b[0m\u001b[1;33m\u001b[0m\u001b[0m\n\u001b[0m\u001b[0;32m     10\u001b[0m \u001b[1;33m\u001b[0m\u001b[0m\n\u001b[0;32m     11\u001b[0m \u001b[1;33m\u001b[0m\u001b[0m\n",
      "\u001b[1;32mc:\\users\\nicholas.manolakos\\appdata\\local\\programs\\python\\python38-32\\lib\\site-packages\\keras\\backend\\__init__.py\u001b[0m in \u001b[0;36m<module>\u001b[1;34m\u001b[0m\n\u001b[1;32m----> 1\u001b[1;33m \u001b[1;32mfrom\u001b[0m \u001b[1;33m.\u001b[0m\u001b[0mload_backend\u001b[0m \u001b[1;32mimport\u001b[0m \u001b[0mepsilon\u001b[0m\u001b[1;33m\u001b[0m\u001b[1;33m\u001b[0m\u001b[0m\n\u001b[0m\u001b[0;32m      2\u001b[0m \u001b[1;32mfrom\u001b[0m \u001b[1;33m.\u001b[0m\u001b[0mload_backend\u001b[0m \u001b[1;32mimport\u001b[0m \u001b[0mset_epsilon\u001b[0m\u001b[1;33m\u001b[0m\u001b[1;33m\u001b[0m\u001b[0m\n\u001b[0;32m      3\u001b[0m \u001b[1;32mfrom\u001b[0m \u001b[1;33m.\u001b[0m\u001b[0mload_backend\u001b[0m \u001b[1;32mimport\u001b[0m \u001b[0mfloatx\u001b[0m\u001b[1;33m\u001b[0m\u001b[1;33m\u001b[0m\u001b[0m\n\u001b[0;32m      4\u001b[0m \u001b[1;32mfrom\u001b[0m \u001b[1;33m.\u001b[0m\u001b[0mload_backend\u001b[0m \u001b[1;32mimport\u001b[0m \u001b[0mset_floatx\u001b[0m\u001b[1;33m\u001b[0m\u001b[1;33m\u001b[0m\u001b[0m\n\u001b[0;32m      5\u001b[0m \u001b[1;32mfrom\u001b[0m \u001b[1;33m.\u001b[0m\u001b[0mload_backend\u001b[0m \u001b[1;32mimport\u001b[0m \u001b[0mcast_to_floatx\u001b[0m\u001b[1;33m\u001b[0m\u001b[1;33m\u001b[0m\u001b[0m\n",
      "\u001b[1;32mc:\\users\\nicholas.manolakos\\appdata\\local\\programs\\python\\python38-32\\lib\\site-packages\\keras\\backend\\load_backend.py\u001b[0m in \u001b[0;36m<module>\u001b[1;34m\u001b[0m\n\u001b[0;32m     88\u001b[0m \u001b[1;32melif\u001b[0m \u001b[0m_BACKEND\u001b[0m \u001b[1;33m==\u001b[0m \u001b[1;34m'tensorflow'\u001b[0m\u001b[1;33m:\u001b[0m\u001b[1;33m\u001b[0m\u001b[1;33m\u001b[0m\u001b[0m\n\u001b[0;32m     89\u001b[0m     \u001b[0msys\u001b[0m\u001b[1;33m.\u001b[0m\u001b[0mstderr\u001b[0m\u001b[1;33m.\u001b[0m\u001b[0mwrite\u001b[0m\u001b[1;33m(\u001b[0m\u001b[1;34m'Using TensorFlow backend.\\n'\u001b[0m\u001b[1;33m)\u001b[0m\u001b[1;33m\u001b[0m\u001b[1;33m\u001b[0m\u001b[0m\n\u001b[1;32m---> 90\u001b[1;33m     \u001b[1;32mfrom\u001b[0m \u001b[1;33m.\u001b[0m\u001b[0mtensorflow_backend\u001b[0m \u001b[1;32mimport\u001b[0m \u001b[1;33m*\u001b[0m\u001b[1;33m\u001b[0m\u001b[1;33m\u001b[0m\u001b[0m\n\u001b[0m\u001b[0;32m     91\u001b[0m \u001b[1;32melse\u001b[0m\u001b[1;33m:\u001b[0m\u001b[1;33m\u001b[0m\u001b[1;33m\u001b[0m\u001b[0m\n\u001b[0;32m     92\u001b[0m     \u001b[1;31m# Try and load external backend.\u001b[0m\u001b[1;33m\u001b[0m\u001b[1;33m\u001b[0m\u001b[1;33m\u001b[0m\u001b[0m\n",
      "\u001b[1;32mc:\\users\\nicholas.manolakos\\appdata\\local\\programs\\python\\python38-32\\lib\\site-packages\\keras\\backend\\tensorflow_backend.py\u001b[0m in \u001b[0;36m<module>\u001b[1;34m\u001b[0m\n\u001b[0;32m      3\u001b[0m \u001b[1;32mfrom\u001b[0m \u001b[0m__future__\u001b[0m \u001b[1;32mimport\u001b[0m \u001b[0mprint_function\u001b[0m\u001b[1;33m\u001b[0m\u001b[1;33m\u001b[0m\u001b[0m\n\u001b[0;32m      4\u001b[0m \u001b[1;33m\u001b[0m\u001b[0m\n\u001b[1;32m----> 5\u001b[1;33m \u001b[1;32mimport\u001b[0m \u001b[0mtensorflow\u001b[0m \u001b[1;32mas\u001b[0m \u001b[0mtf\u001b[0m\u001b[1;33m\u001b[0m\u001b[1;33m\u001b[0m\u001b[0m\n\u001b[0m\u001b[0;32m      6\u001b[0m \u001b[1;32mfrom\u001b[0m \u001b[0mtensorflow\u001b[0m\u001b[1;33m.\u001b[0m\u001b[0mpython\u001b[0m\u001b[1;33m.\u001b[0m\u001b[0meager\u001b[0m \u001b[1;32mimport\u001b[0m \u001b[0mcontext\u001b[0m\u001b[1;33m\u001b[0m\u001b[1;33m\u001b[0m\u001b[0m\n\u001b[0;32m      7\u001b[0m \u001b[1;32mfrom\u001b[0m \u001b[0mtensorflow\u001b[0m\u001b[1;33m.\u001b[0m\u001b[0mpython\u001b[0m\u001b[1;33m.\u001b[0m\u001b[0mframework\u001b[0m \u001b[1;32mimport\u001b[0m \u001b[0mdevice\u001b[0m \u001b[1;32mas\u001b[0m \u001b[0mtfdev\u001b[0m\u001b[1;33m\u001b[0m\u001b[1;33m\u001b[0m\u001b[0m\n",
      "\u001b[1;31mModuleNotFoundError\u001b[0m: No module named 'tensorflow'"
     ],
     "ename": "ModuleNotFoundError",
     "evalue": "No module named 'tensorflow'",
     "output_type": "error"
    }
   ]
  },
  {
   "metadata": {
    "trusted": true,
    "pycharm": {
     "is_executing": false
    }
   },
   "cell_type": "code",
   "source": [
    "!pip3.8 install tensorflow\n",
    "import tensorflow as tf\n",
    "print(tf.__version__)"
   ],
   "execution_count": 27,
   "outputs": [
    {
     "name": "stdout",
     "text": [
      "Collecting tensorflow\n"
     ],
     "output_type": "stream"
    },
    {
     "name": "stderr",
     "text": [
      "  ERROR: Could not find a version that satisfies the requirement tensorflow (from versions: none)\n",
      "ERROR: No matching distribution found for tensorflow\n",
      "WARNING: You are using pip version 19.2.3, however version 20.0.2 is available.\n",
      "You should consider upgrading via the 'python -m pip install --upgrade pip' command.\n"
     ],
     "output_type": "stream"
    },
    {
     "traceback": [
      "\u001b[1;31m---------------------------------------------------------------------------\u001b[0m",
      "\u001b[1;31mModuleNotFoundError\u001b[0m                       Traceback (most recent call last)",
      "\u001b[1;32m<ipython-input-27-61012e2af230>\u001b[0m in \u001b[0;36m<module>\u001b[1;34m\u001b[0m\n\u001b[0;32m      1\u001b[0m \u001b[0mget_ipython\u001b[0m\u001b[1;33m(\u001b[0m\u001b[1;33m)\u001b[0m\u001b[1;33m.\u001b[0m\u001b[0msystem\u001b[0m\u001b[1;33m(\u001b[0m\u001b[1;34m'pip3.8 install tensorflow'\u001b[0m\u001b[1;33m)\u001b[0m\u001b[1;33m\u001b[0m\u001b[1;33m\u001b[0m\u001b[0m\n\u001b[1;32m----> 2\u001b[1;33m \u001b[1;32mimport\u001b[0m \u001b[0mtensorflow\u001b[0m \u001b[1;32mas\u001b[0m \u001b[0mtf\u001b[0m\u001b[1;33m\u001b[0m\u001b[1;33m\u001b[0m\u001b[0m\n\u001b[0m\u001b[0;32m      3\u001b[0m \u001b[0mprint\u001b[0m\u001b[1;33m(\u001b[0m\u001b[0mtf\u001b[0m\u001b[1;33m.\u001b[0m\u001b[0m__version__\u001b[0m\u001b[1;33m)\u001b[0m\u001b[1;33m\u001b[0m\u001b[1;33m\u001b[0m\u001b[0m\n\u001b[0;32m      4\u001b[0m \u001b[1;33m\u001b[0m\u001b[0m\n",
      "\u001b[1;31mModuleNotFoundError\u001b[0m: No module named 'tensorflow'"
     ],
     "ename": "ModuleNotFoundError",
     "evalue": "No module named 'tensorflow'",
     "output_type": "error"
    }
   ]
  },
  {
   "metadata": {
    "trusted": true,
    "pycharm": {
     "is_executing": false
    }
   },
   "cell_type": "code",
   "source": [
    "#!pip install qgrid\n",
    "import qgrid"
   ],
   "execution_count": 28,
   "outputs": [
    {
     "name": "stdout",
     "text": [
      "Collecting qgrid\n",
      "  Downloading qgrid-1.2.0.tar.gz (798 kB)\n",
      "Requirement already satisfied: notebook>=4.0.0 in c:\\users\\nicholas.manolakos\\appdata\\roaming\\python\\python27\\site-packages (from qgrid) (5.7.8)\n",
      "Collecting pandas>=0.18.0\n",
      "  Downloading pandas-0.24.2-cp27-cp27m-win_amd64.whl (8.3 MB)\n",
      "Requirement already satisfied: ipywidgets>=7.0.0 in c:\\users\\nicholas.manolakos\\appdata\\roaming\\python\\python27\\site-packages (from qgrid) (7.5.1)\n",
      "Requirement already satisfied: prometheus-client in c:\\users\\nicholas.manolakos\\appdata\\roaming\\python\\python27\\site-packages (from notebook>=4.0.0->qgrid) (0.7.1)\n",
      "Requirement already satisfied: traitlets>=4.2.1 in c:\\users\\nicholas.manolakos\\appdata\\roaming\\python\\python27\\site-packages (from notebook>=4.0.0->qgrid) (4.3.3)\n",
      "Requirement already satisfied: terminado>=0.8.1 in c:\\users\\nicholas.manolakos\\appdata\\roaming\\python\\python27\\site-packages (from notebook>=4.0.0->qgrid) (0.8.3)\n",
      "Requirement already satisfied: jinja2 in c:\\users\\nicholas.manolakos\\appdata\\roaming\\python\\python27\\site-packages (from notebook>=4.0.0->qgrid) (2.11.1)\n",
      "Requirement already satisfied: jupyter-core>=4.4.0 in c:\\users\\nicholas.manolakos\\appdata\\roaming\\python\\python27\\site-packages (from notebook>=4.0.0->qgrid) (4.6.2)\n",
      "Requirement already satisfied: tornado<7,>=4.1 in c:\\users\\nicholas.manolakos\\appdata\\roaming\\python\\python27\\site-packages (from notebook>=4.0.0->qgrid) (5.1.1)\n",
      "Requirement already satisfied: Send2Trash in c:\\users\\nicholas.manolakos\\appdata\\roaming\\python\\python27\\site-packages (from notebook>=4.0.0->qgrid) (1.5.0)\n",
      "Requirement already satisfied: ipython-genutils in c:\\users\\nicholas.manolakos\\appdata\\roaming\\python\\python27\\site-packages (from notebook>=4.0.0->qgrid) (0.2.0)\n",
      "Requirement already satisfied: ipaddress; python_version == \"2.7\" in c:\\users\\nicholas.manolakos\\appdata\\roaming\\python\\python27\\site-packages (from notebook>=4.0.0->qgrid) (1.0.23)\n",
      "Requirement already satisfied: nbconvert in c:\\users\\nicholas.manolakos\\appdata\\roaming\\python\\python27\\site-packages (from notebook>=4.0.0->qgrid) (5.6.1)\n",
      "Requirement already satisfied: jupyter-client>=5.2.0 in c:\\users\\nicholas.manolakos\\appdata\\roaming\\python\\python27\\site-packages (from notebook>=4.0.0->qgrid) (5.3.4)\n",
      "Requirement already satisfied: nbformat in c:\\users\\nicholas.manolakos\\appdata\\roaming\\python\\python27\\site-packages (from notebook>=4.0.0->qgrid) (4.4.0)\n",
      "Requirement already satisfied: pyzmq>=17 in c:\\users\\nicholas.manolakos\\appdata\\roaming\\python\\python27\\site-packages (from notebook>=4.0.0->qgrid) (18.1.1)\n",
      "Requirement already satisfied: ipykernel in c:\\users\\nicholas.manolakos\\appdata\\roaming\\python\\python27\\site-packages (from notebook>=4.0.0->qgrid) (4.10.1)\n",
      "Collecting pytz>=2011k\n",
      "  Using cached pytz-2019.3-py2.py3-none-any.whl (509 kB)\n",
      "Collecting numpy>=1.12.0\n",
      "  Downloading numpy-1.16.6-cp27-cp27m-win_amd64.whl (11.9 MB)\n",
      "Requirement already satisfied: python-dateutil>=2.5.0 in c:\\users\\nicholas.manolakos\\appdata\\roaming\\python\\python27\\site-packages (from pandas>=0.18.0->qgrid) (2.8.1)\n",
      "Requirement already satisfied: widgetsnbextension~=3.5.0 in c:\\users\\nicholas.manolakos\\appdata\\roaming\\python\\python27\\site-packages (from ipywidgets>=7.0.0->qgrid) (3.5.1)\n",
      "Requirement already satisfied: ipython<6.0.0,>=4.0.0; python_version < \"3.3\" in c:\\users\\nicholas.manolakos\\appdata\\roaming\\python\\python27\\site-packages (from ipywidgets>=7.0.0->qgrid) (5.9.0)\n",
      "Requirement already satisfied: six in c:\\users\\nicholas.manolakos\\appdata\\roaming\\python\\python27\\site-packages (from traitlets>=4.2.1->notebook>=4.0.0->qgrid) (1.14.0)\n",
      "Requirement already satisfied: enum34; python_version == \"2.7\" in c:\\users\\nicholas.manolakos\\appdata\\roaming\\python\\python27\\site-packages (from traitlets>=4.2.1->notebook>=4.0.0->qgrid) (1.1.6)\n",
      "Requirement already satisfied: decorator in c:\\users\\nicholas.manolakos\\appdata\\roaming\\python\\python27\\site-packages (from traitlets>=4.2.1->notebook>=4.0.0->qgrid) (4.4.1)\n",
      "Requirement already satisfied: pywinpty>=0.5; os_name == \"nt\" in c:\\users\\nicholas.manolakos\\appdata\\roaming\\python\\python27\\site-packages (from terminado>=0.8.1->notebook>=4.0.0->qgrid) (0.5.7)\n",
      "Requirement already satisfied: MarkupSafe>=0.23 in c:\\users\\nicholas.manolakos\\appdata\\roaming\\python\\python27\\site-packages (from jinja2->notebook>=4.0.0->qgrid) (1.1.1)\n",
      "Requirement already satisfied: pywin32>=1.0; sys_platform == \"win32\" in c:\\users\\nicholas.manolakos\\appdata\\roaming\\python\\python27\\site-packages (from jupyter-core>=4.4.0->notebook>=4.0.0->qgrid) (227)\n",
      "Requirement already satisfied: futures in c:\\users\\nicholas.manolakos\\appdata\\roaming\\python\\python27\\site-packages (from tornado<7,>=4.1->notebook>=4.0.0->qgrid) (3.3.0)\n",
      "Requirement already satisfied: singledispatch in c:\\users\\nicholas.manolakos\\appdata\\roaming\\python\\python27\\site-packages (from tornado<7,>=4.1->notebook>=4.0.0->qgrid) (3.4.0.3)\n",
      "Requirement already satisfied: backports_abc>=0.4 in c:\\users\\nicholas.manolakos\\appdata\\roaming\\python\\python27\\site-packages (from tornado<7,>=4.1->notebook>=4.0.0->qgrid) (0.5)\n",
      "Requirement already satisfied: pygments in c:\\users\\nicholas.manolakos\\appdata\\roaming\\python\\python27\\site-packages (from nbconvert->notebook>=4.0.0->qgrid) (2.5.2)\n",
      "Requirement already satisfied: defusedxml in c:\\users\\nicholas.manolakos\\appdata\\roaming\\python\\python27\\site-packages (from nbconvert->notebook>=4.0.0->qgrid) (0.6.0)\n",
      "Requirement already satisfied: entrypoints>=0.2.2 in c:\\users\\nicholas.manolakos\\appdata\\roaming\\python\\python27\\site-packages (from nbconvert->notebook>=4.0.0->qgrid) (0.3)\n",
      "Requirement already satisfied: mistune<2,>=0.8.1 in c:\\users\\nicholas.manolakos\\appdata\\roaming\\python\\python27\\site-packages (from nbconvert->notebook>=4.0.0->qgrid) (0.8.4)\n",
      "Requirement already satisfied: testpath in c:\\users\\nicholas.manolakos\\appdata\\roaming\\python\\python27\\site-packages (from nbconvert->notebook>=4.0.0->qgrid) (0.4.4)\n",
      "Requirement already satisfied: pandocfilters>=1.4.1 in c:\\users\\nicholas.manolakos\\appdata\\roaming\\python\\python27\\site-packages (from nbconvert->notebook>=4.0.0->qgrid) (1.4.2)\n",
      "Requirement already satisfied: bleach in c:\\users\\nicholas.manolakos\\appdata\\roaming\\python\\python27\\site-packages (from nbconvert->notebook>=4.0.0->qgrid) (3.1.0)\n",
      "Requirement already satisfied: jsonschema!=2.5.0,>=2.4 in c:\\users\\nicholas.manolakos\\appdata\\roaming\\python\\python27\\site-packages (from nbformat->notebook>=4.0.0->qgrid) (3.2.0)\n",
      "Requirement already satisfied: prompt-toolkit<2.0.0,>=1.0.4 in c:\\users\\nicholas.manolakos\\appdata\\roaming\\python\\python27\\site-packages (from ipython<6.0.0,>=4.0.0; python_version < \"3.3\"->ipywidgets>=7.0.0->qgrid) (1.0.18)\n",
      "Requirement already satisfied: colorama; sys_platform == \"win32\" in c:\\users\\nicholas.manolakos\\appdata\\roaming\\python\\python27\\site-packages (from ipython<6.0.0,>=4.0.0; python_version < \"3.3\"->ipywidgets>=7.0.0->qgrid) (0.4.3)\n",
      "Requirement already satisfied: simplegeneric>0.8 in c:\\users\\nicholas.manolakos\\appdata\\roaming\\python\\python27\\site-packages (from ipython<6.0.0,>=4.0.0; python_version < \"3.3\"->ipywidgets>=7.0.0->qgrid) (0.8.1)\n",
      "Requirement already satisfied: pathlib2; python_version == \"2.7\" or python_version == \"3.3\" in c:\\users\\nicholas.manolakos\\appdata\\roaming\\python\\python27\\site-packages (from ipython<6.0.0,>=4.0.0; python_version < \"3.3\"->ipywidgets>=7.0.0->qgrid) (2.3.5)\n",
      "Requirement already satisfied: setuptools>=18.5 in c:\\python27\\lib\\site-packages (from ipython<6.0.0,>=4.0.0; python_version < \"3.3\"->ipywidgets>=7.0.0->qgrid) (41.2.0)\n",
      "Requirement already satisfied: win-unicode-console>=0.5; sys_platform == \"win32\" and python_version < \"3.6\" in c:\\users\\nicholas.manolakos\\appdata\\roaming\\python\\python27\\site-packages (from ipython<6.0.0,>=4.0.0; python_version < \"3.3\"->ipywidgets>=7.0.0->qgrid) (0.5)\n",
      "Requirement already satisfied: pickleshare in c:\\users\\nicholas.manolakos\\appdata\\roaming\\python\\python27\\site-packages (from ipython<6.0.0,>=4.0.0; python_version < \"3.3\"->ipywidgets>=7.0.0->qgrid) (0.7.5)\n",
      "Requirement already satisfied: backports.shutil-get-terminal-size; python_version == \"2.7\" in c:\\users\\nicholas.manolakos\\appdata\\roaming\\python\\python27\\site-packages (from ipython<6.0.0,>=4.0.0; python_version < \"3.3\"->ipywidgets>=7.0.0->qgrid) (1.0.0)\n",
      "Requirement already satisfied: backports.shutil-which; python_version < \"3.0\" in c:\\users\\nicholas.manolakos\\appdata\\roaming\\python\\python27\\site-packages (from pywinpty>=0.5; os_name == \"nt\"->terminado>=0.8.1->notebook>=4.0.0->qgrid) (3.5.2)\n",
      "Requirement already satisfied: configparser>=3.5; python_version == \"2.7\" in c:\\users\\nicholas.manolakos\\appdata\\roaming\\python\\python27\\site-packages (from entrypoints>=0.2.2->nbconvert->notebook>=4.0.0->qgrid) (4.0.2)\n",
      "Requirement already satisfied: webencodings in c:\\users\\nicholas.manolakos\\appdata\\roaming\\python\\python27\\site-packages (from bleach->nbconvert->notebook>=4.0.0->qgrid) (0.5.1)\n",
      "Requirement already satisfied: attrs>=17.4.0 in c:\\users\\nicholas.manolakos\\appdata\\roaming\\python\\python27\\site-packages (from jsonschema!=2.5.0,>=2.4->nbformat->notebook>=4.0.0->qgrid) (19.3.0)\n",
      "Requirement already satisfied: importlib-metadata; python_version < \"3.8\" in c:\\users\\nicholas.manolakos\\appdata\\roaming\\python\\python27\\site-packages (from jsonschema!=2.5.0,>=2.4->nbformat->notebook>=4.0.0->qgrid) (1.5.0)\n",
      "Requirement already satisfied: functools32; python_version < \"3\" in c:\\users\\nicholas.manolakos\\appdata\\roaming\\python\\python27\\site-packages (from jsonschema!=2.5.0,>=2.4->nbformat->notebook>=4.0.0->qgrid) (3.2.3.post2)\n",
      "Requirement already satisfied: pyrsistent>=0.14.0 in c:\\users\\nicholas.manolakos\\appdata\\roaming\\python\\python27\\site-packages (from jsonschema!=2.5.0,>=2.4->nbformat->notebook>=4.0.0->qgrid) (0.15.7)\n",
      "Requirement already satisfied: wcwidth in c:\\users\\nicholas.manolakos\\appdata\\roaming\\python\\python27\\site-packages (from prompt-toolkit<2.0.0,>=1.0.4->ipython<6.0.0,>=4.0.0; python_version < \"3.3\"->ipywidgets>=7.0.0->qgrid) (0.1.8)\n",
      "Requirement already satisfied: scandir; python_version < \"3.5\" in c:\\users\\nicholas.manolakos\\appdata\\roaming\\python\\python27\\site-packages (from pathlib2; python_version == \"2.7\" or python_version == \"3.3\"->ipython<6.0.0,>=4.0.0; python_version < \"3.3\"->ipywidgets>=7.0.0->qgrid) (1.10.0)\n",
      "Requirement already satisfied: contextlib2; python_version < \"3\" in c:\\users\\nicholas.manolakos\\appdata\\roaming\\python\\python27\\site-packages (from importlib-metadata; python_version < \"3.8\"->jsonschema!=2.5.0,>=2.4->nbformat->notebook>=4.0.0->qgrid) (0.6.0.post1)\n",
      "Requirement already satisfied: zipp>=0.5 in c:\\users\\nicholas.manolakos\\appdata\\roaming\\python\\python27\\site-packages (from importlib-metadata; python_version < \"3.8\"->jsonschema!=2.5.0,>=2.4->nbformat->notebook>=4.0.0->qgrid) (1.1.0)\n",
      "Installing collected packages: pytz, numpy, pandas, qgrid\n",
      "    Running setup.py install for qgrid: started\n",
      "    Running setup.py install for qgrid: finished with status 'done'\n",
      "Successfully installed numpy-1.16.6 pandas-0.24.2 pytz-2019.3 qgrid-1.2.0\n"
     ],
     "output_type": "stream"
    },
    {
     "name": "stderr",
     "text": [
      "DEPRECATION: Python 2.7 reached the end of its life on January 1st, 2020. Please upgrade your Python as Python 2.7 is no longer maintained. A future version of pip will drop support for Python 2.7. More details about Python 2 support in pip, can be found at https://pip.pypa.io/en/latest/development/release-process/#python-2-support\n"
     ],
     "output_type": "stream"
    },
    {
     "traceback": [
      "\u001b[1;31m---------------------------------------------------------------------------\u001b[0m",
      "\u001b[1;31mModuleNotFoundError\u001b[0m                       Traceback (most recent call last)",
      "\u001b[1;32m<ipython-input-28-b05017392a90>\u001b[0m in \u001b[0;36m<module>\u001b[1;34m\u001b[0m\n\u001b[0;32m      1\u001b[0m \u001b[0mget_ipython\u001b[0m\u001b[1;33m(\u001b[0m\u001b[1;33m)\u001b[0m\u001b[1;33m.\u001b[0m\u001b[0msystem\u001b[0m\u001b[1;33m(\u001b[0m\u001b[1;34m'pip install qgrid'\u001b[0m\u001b[1;33m)\u001b[0m\u001b[1;33m\u001b[0m\u001b[1;33m\u001b[0m\u001b[0m\n\u001b[1;32m----> 2\u001b[1;33m \u001b[1;32mimport\u001b[0m \u001b[0mqgrid\u001b[0m\u001b[1;33m\u001b[0m\u001b[1;33m\u001b[0m\u001b[0m\n\u001b[0m\u001b[0;32m      3\u001b[0m \u001b[1;33m\u001b[0m\u001b[0m\n",
      "\u001b[1;31mModuleNotFoundError\u001b[0m: No module named 'qgrid'"
     ],
     "ename": "ModuleNotFoundError",
     "evalue": "No module named 'qgrid'",
     "output_type": "error"
    }
   ]
  },
  {
   "metadata": {
    "trusted": true
   },
   "cell_type": "code",
   "source": [
    "#!pip install pixiedust\n",
    "import pixiedust"
   ],
   "execution_count": 8,
   "outputs": [
    {
     "output_type": "stream",
     "text": "Requirement already satisfied: pixiedust in /home/nbuser/anaconda3_501/lib/python3.6/site-packages (1.1.18)\nRequirement already satisfied: requests in /home/nbuser/anaconda3_501/lib/python3.6/site-packages (from pixiedust) (2.22.0)\nRequirement already satisfied: markdown in /home/nbuser/anaconda3_501/lib/python3.6/site-packages (from pixiedust) (3.0.1)\nRequirement already satisfied: lxml in /home/nbuser/anaconda3_501/lib/python3.6/site-packages (from pixiedust) (4.2.5)\nRequirement already satisfied: astunparse in /home/nbuser/anaconda3_501/lib/python3.6/site-packages (from pixiedust) (1.6.2)\nRequirement already satisfied: colour in /home/nbuser/anaconda3_501/lib/python3.6/site-packages (from pixiedust) (0.1.5)\nRequirement already satisfied: geojson in /home/nbuser/anaconda3_501/lib/python3.6/site-packages (from pixiedust) (2.5.0)\nRequirement already satisfied: mpld3 in /home/nbuser/anaconda3_501/lib/python3.6/site-packages (from pixiedust) (0.3)\nRequirement already satisfied: urllib3!=1.25.0,!=1.25.1,<1.26,>=1.21.1 in /home/nbuser/anaconda3_501/lib/python3.6/site-packages (from requests->pixiedust) (1.23)\nRequirement already satisfied: chardet<3.1.0,>=3.0.2 in /home/nbuser/anaconda3_501/lib/python3.6/site-packages (from requests->pixiedust) (3.0.4)\nRequirement already satisfied: idna<2.9,>=2.5 in /home/nbuser/anaconda3_501/lib/python3.6/site-packages (from requests->pixiedust) (2.7)\nRequirement already satisfied: certifi>=2017.4.17 in /home/nbuser/anaconda3_501/lib/python3.6/site-packages (from requests->pixiedust) (2018.10.15)\nRequirement already satisfied: six<2.0,>=1.6.1 in /home/nbuser/anaconda3_501/lib/python3.6/site-packages (from astunparse->pixiedust) (1.11.0)\nRequirement already satisfied: wheel<1.0,>=0.23.0 in /home/nbuser/anaconda3_501/lib/python3.6/site-packages (from astunparse->pixiedust) (0.30.0)\nPixiedust database opened successfully\n",
     "name": "stdout"
    },
    {
     "output_type": "display_data",
     "data": {
      "text/html": "\n        <div style=\"margin:10px\">\n            <a href=\"https://github.com/ibm-watson-data-lab/pixiedust\" target=\"_new\">\n                <img src=\"https://github.com/ibm-watson-data-lab/pixiedust/raw/master/docs/_static/pd_icon32.png\" style=\"float:left;margin-right:10px\"/>\n            </a>\n            <span>Pixiedust version 1.1.18</span>\n        </div>\n        ",
      "text/plain": "<IPython.core.display.HTML object>"
     },
     "metadata": {}
    },
    {
     "output_type": "stream",
     "text": "Table service_connections created successfully\n",
     "name": "stdout"
    }
   ]
  },
  {
   "metadata": {
    "trusted": true
   },
   "cell_type": "code",
   "source": [
    "#!pip install pixiedust_node\n",
    "import pixiedust_node\n"
   ],
   "execution_count": 10,
   "outputs": [
    {
     "output_type": "stream",
     "text": "Collecting pixiedust_node\n  Downloading https://files.pythonhosted.org/packages/f0/ea/7c92581d0e046d61d482c3d30bed52fe9febf485243b50f76909371557a0/pixiedust_node-0.2.5.tar.gz\nRequirement already satisfied: pixiedust in /home/nbuser/anaconda3_501/lib/python3.6/site-packages (from pixiedust_node) (1.1.18)\nRequirement already satisfied: pandas in /home/nbuser/anaconda3_501/lib/python3.6/site-packages (from pixiedust_node) (0.23.4)\nRequirement already satisfied: ipython in /home/nbuser/anaconda3_501/lib/python3.6/site-packages (from pixiedust_node) (7.1.1)\nRequirement already satisfied: astunparse in /home/nbuser/anaconda3_501/lib/python3.6/site-packages (from pixiedust->pixiedust_node) (1.6.2)\nRequirement already satisfied: lxml in /home/nbuser/anaconda3_501/lib/python3.6/site-packages (from pixiedust->pixiedust_node) (4.2.5)\nRequirement already satisfied: colour in /home/nbuser/anaconda3_501/lib/python3.6/site-packages (from pixiedust->pixiedust_node) (0.1.5)\nRequirement already satisfied: mpld3 in /home/nbuser/anaconda3_501/lib/python3.6/site-packages (from pixiedust->pixiedust_node) (0.3)\nRequirement already satisfied: geojson in /home/nbuser/anaconda3_501/lib/python3.6/site-packages (from pixiedust->pixiedust_node) (2.5.0)\nRequirement already satisfied: requests in /home/nbuser/anaconda3_501/lib/python3.6/site-packages (from pixiedust->pixiedust_node) (2.22.0)\nRequirement already satisfied: markdown in /home/nbuser/anaconda3_501/lib/python3.6/site-packages (from pixiedust->pixiedust_node) (3.0.1)\nRequirement already satisfied: pytz>=2011k in /home/nbuser/anaconda3_501/lib/python3.6/site-packages (from pandas->pixiedust_node) (2019.3)\nRequirement already satisfied: python-dateutil>=2.5.0 in /home/nbuser/anaconda3_501/lib/python3.6/site-packages (from pandas->pixiedust_node) (2.8.1)\nRequirement already satisfied: numpy>=1.9.0 in /home/nbuser/anaconda3_501/lib/python3.6/site-packages (from pandas->pixiedust_node) (1.16.2)\nRequirement already satisfied: prompt-toolkit<2.1.0,>=2.0.0 in /home/nbuser/anaconda3_501/lib/python3.6/site-packages (from ipython->pixiedust_node) (2.0.7)\nRequirement already satisfied: setuptools>=18.5 in /home/nbuser/anaconda3_501/lib/python3.6/site-packages (from ipython->pixiedust_node) (41.6.0)\nRequirement already satisfied: pickleshare in /home/nbuser/anaconda3_501/lib/python3.6/site-packages (from ipython->pixiedust_node) (0.7.5)\nRequirement already satisfied: jedi>=0.10 in /home/nbuser/anaconda3_501/lib/python3.6/site-packages (from ipython->pixiedust_node) (0.13.1)\nRequirement already satisfied: pygments in /home/nbuser/anaconda3_501/lib/python3.6/site-packages (from ipython->pixiedust_node) (2.2.0)\nRequirement already satisfied: backcall in /home/nbuser/anaconda3_501/lib/python3.6/site-packages (from ipython->pixiedust_node) (0.1.0)\nRequirement already satisfied: pexpect; sys_platform != \"win32\" in /home/nbuser/anaconda3_501/lib/python3.6/site-packages (from ipython->pixiedust_node) (4.6.0)\nRequirement already satisfied: decorator in /home/nbuser/anaconda3_501/lib/python3.6/site-packages (from ipython->pixiedust_node) (4.3.0)\nRequirement already satisfied: traitlets>=4.2 in /home/nbuser/anaconda3_501/lib/python3.6/site-packages (from ipython->pixiedust_node) (4.3.2)\nRequirement already satisfied: six<2.0,>=1.6.1 in /home/nbuser/anaconda3_501/lib/python3.6/site-packages (from astunparse->pixiedust->pixiedust_node) (1.11.0)\nRequirement already satisfied: wheel<1.0,>=0.23.0 in /home/nbuser/anaconda3_501/lib/python3.6/site-packages (from astunparse->pixiedust->pixiedust_node) (0.30.0)\nRequirement already satisfied: urllib3!=1.25.0,!=1.25.1,<1.26,>=1.21.1 in /home/nbuser/anaconda3_501/lib/python3.6/site-packages (from requests->pixiedust->pixiedust_node) (1.23)\nRequirement already satisfied: certifi>=2017.4.17 in /home/nbuser/anaconda3_501/lib/python3.6/site-packages (from requests->pixiedust->pixiedust_node) (2018.10.15)\nRequirement already satisfied: chardet<3.1.0,>=3.0.2 in /home/nbuser/anaconda3_501/lib/python3.6/site-packages (from requests->pixiedust->pixiedust_node) (3.0.4)\nRequirement already satisfied: idna<2.9,>=2.5 in /home/nbuser/anaconda3_501/lib/python3.6/site-packages (from requests->pixiedust->pixiedust_node) (2.7)\nRequirement already satisfied: wcwidth in /home/nbuser/anaconda3_501/lib/python3.6/site-packages (from prompt-toolkit<2.1.0,>=2.0.0->ipython->pixiedust_node) (0.1.7)\nRequirement already satisfied: parso>=0.3.0 in /home/nbuser/anaconda3_501/lib/python3.6/site-packages (from jedi>=0.10->ipython->pixiedust_node) (0.3.1)\nRequirement already satisfied: ptyprocess>=0.5 in /home/nbuser/anaconda3_501/lib/python3.6/site-packages (from pexpect; sys_platform != \"win32\"->ipython->pixiedust_node) (0.6.0)\nRequirement already satisfied: ipython-genutils in /home/nbuser/anaconda3_501/lib/python3.6/site-packages (from traitlets>=4.2->ipython->pixiedust_node) (0.2.0)\nBuilding wheels for collected packages: pixiedust-node\n  Building wheel for pixiedust-node (setup.py) ... \u001b[?25ldone\n\u001b[?25h  Created wheel for pixiedust-node: filename=pixiedust_node-0.2.5-py2.py3-none-any.whl size=10192 sha256=0017a5a0fa15d55c7a9819cae099d15f970abfd9901c33e2bac72add0687ce28\n  Stored in directory: /home/nbuser/.cache/pip/wheels/0e/6f/bc/b15e5b57deddd8d035afc9f61b1c6e474f3789b3fa95999126\nSuccessfully built pixiedust-node\nInstalling collected packages: pixiedust-node\nSuccessfully installed pixiedust-node-0.2.5\n",
     "name": "stdout"
    },
    {
     "output_type": "display_data",
     "data": {
      "text/html": "\n            <div style=\"margin:10px\"> \n            <a href=\"https://github.com/ibm-cds-labs/pixiedust_node\" target=\"_new\"> \n            <img src=\"https://github.com/ibm-cds-labs/pixiedust_node/raw/master/docs/_images/pdn_icon32.png\" style=\"float:left;margin-right:10px\"/> \n            </a> \n            <span>Pixiedust Node.js</span> \n            </div> \n",
      "text/plain": "<IPython.core.display.HTML object>"
     },
     "metadata": {}
    }
   ]
  },
  {
   "metadata": {
    "pixiedust": {
     "displayParams": {
      "handlerId": "lineChart"
     }
    },
    "trusted": true,
    "pycharm": {
     "is_executing": false
    }
   },
   "cell_type": "code",
   "source": "%%node\nvar data = [];\nfor (var i = 0; i < 1000; i++) {\n    var x = 2*Math.PI * i/ 360;\n    var obj = {\n      x: x,\n      i: i,\n      sin: Math.sin(x),\n      cos: Math.cos(x),\n      tan: Math.tan(x)\n    };\n    data.push(obj);\n}\ndisplay(data);",
   "execution_count": null,
   "outputs": []
  },
  {
   "metadata": {
    "trusted": true
   },
   "cell_type": "code",
   "source": "",
   "execution_count": null,
   "outputs": []
  }
 ],
 "metadata": {
  "kernelspec": {
   "name": "python3",
   "language": "python",
   "display_name": "Python 3"
  },
  "language_info": {
   "mimetype": "text/x-python",
   "nbconvert_exporter": "python",
   "name": "python",
   "pygments_lexer": "ipython3",
   "version": "3.6.6",
   "file_extension": ".py",
   "codemirror_mode": {
    "version": 3,
    "name": "ipython"
   }
  },
  "pycharm": {
   "stem_cell": {
    "cell_type": "raw",
    "source": [],
    "metadata": {
     "collapsed": false
    }
   }
  }
 },
 "nbformat": 4,
 "nbformat_minor": 2
}