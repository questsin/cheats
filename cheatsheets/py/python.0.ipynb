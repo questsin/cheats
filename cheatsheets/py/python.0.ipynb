{
 "cells": [
  {
   "cell_type": "code",
   "execution_count": 3,
   "outputs": [
    {
     "name": "stdout",
     "text": [
      "2.7.17 (v2.7.17:c2f86d86e6, Oct 19 2019, 21:01:17) [MSC v.1500 64 bit (AMD64)]\n"
     ],
     "output_type": "stream"
    }
   ],
   "source": [
    "import sys\n",
    "print sys.version\n"
   ],
   "metadata": {
    "collapsed": false,
    "pycharm": {
     "name": "#%%\n",
     "is_executing": false
    }
   }
  },
  {
   "cell_type": "code",
   "execution_count": 29,
   "outputs": [],
   "source": [
    "None"
   ],
   "metadata": {
    "collapsed": false,
    "pycharm": {
     "name": "#%%\n",
     "is_executing": false
    }
   }
  },
  {
   "cell_type": "code",
   "execution_count": 28,
   "metadata": {
    "collapsed": true,
    "pycharm": {
     "is_executing": false
    }
   },
   "outputs": [
    {
     "name": "stdout",
     "text": [
      "Be careful not to fall off!\n",
      "Be careful not to fall off!\n"
     ],
     "output_type": "stream"
    }
   ],
   "source": [
    "if True and 1:\n",
    "    print(\"Be careful not to fall off!\")\n",
    "\n",
    "the_world_is_flat = True\n",
    "if the_world_is_flat:\n",
    "    print(\"Be careful not to fall off!\")\n",
    "    "
   ]
  },
  {
   "cell_type": "code",
   "execution_count": 30,
   "outputs": [
    {
     "data": {
      "text/plain": "'Py'"
     },
     "metadata": {},
     "output_type": "execute_result",
     "execution_count": 30
    }
   ],
   "source": [
    "word = 'Python'\n",
    "word[0:2]  # characters from position 0 (included) to 2 (excluded)"
   ],
   "metadata": {
    "collapsed": false,
    "pycharm": {
     "name": "#%%\n",
     "is_executing": false
    }
   }
  },
  {
   "cell_type": "code",
   "execution_count": 14,
   "outputs": [
    {
     "name": "stdout",
     "text": [
      "0\n",
      "1\n",
      "1\n",
      "2\n",
      "3\n",
      "5\n",
      "8\n"
     ],
     "output_type": "stream"
    }
   ],
   "source": [
    "a, b = 0, 1\n",
    "while a < 10:\n",
    "    print(a)\n",
    "    a, b = b, a+b"
   ],
   "metadata": {
    "collapsed": false,
    "pycharm": {
     "name": "#%%\n",
     "is_executing": false
    }
   }
  },
  {
   "cell_type": "code",
   "execution_count": 16,
   "outputs": [
    {
     "name": "stdout",
     "text": [
      "More\n"
     ],
     "output_type": "stream"
    }
   ],
   "source": [
    "x = 10\n",
    "if x < 0:\n",
    "    x = 0\n",
    "    print('Negative changed to zero')\n",
    "elif x == 0:\n",
    "    print('Zero')\n",
    "elif x == 1:\n",
    "    print('Single')\n",
    "else:\n",
    "    print('More')"
   ],
   "metadata": {
    "collapsed": false,
    "pycharm": {
     "name": "#%%\n",
     "is_executing": false
    }
   }
  },
  {
   "cell_type": "code",
   "execution_count": 17,
   "outputs": [
    {
     "name": "stdout",
     "text": [
      "('cat', 3)\n",
      "('window', 6)\n",
      "('defenestrate', 12)\n"
     ],
     "output_type": "stream"
    }
   ],
   "source": [
    "# Measure some strings:\n",
    "words = ['cat', 'window', 'defenestrate']\n",
    "for w in words:\n",
    "    print(w, len(w))"
   ],
   "metadata": {
    "collapsed": false,
    "pycharm": {
     "name": "#%%\n",
     "is_executing": false
    }
   }
  },
  {
   "cell_type": "code",
   "execution_count": 18,
   "outputs": [
    {
     "name": "stdout",
     "text": [
      "0\n",
      "1\n",
      "2\n",
      "3\n",
      "4\n"
     ],
     "output_type": "stream"
    }
   ],
   "source": [
    "for i in range(5):\n",
    "    print(i)"
   ],
   "metadata": {
    "collapsed": false,
    "pycharm": {
     "name": "#%%\n",
     "is_executing": false
    }
   }
  },
  {
   "cell_type": "code",
   "execution_count": 32,
   "outputs": [
    {
     "name": "stdout",
     "text": [
      "8\n"
     ],
     "output_type": "stream"
    }
   ],
   "source": [
    "def add_numbers(x, y): \n",
    "    return x + y \n",
    "\n",
    "sum = add_numbers(3, 5) \n",
    "print(sum)\n"
   ],
   "metadata": {
    "collapsed": false,
    "pycharm": {
     "name": "#%%\n",
     "is_executing": false
    }
   }
  },
  {
   "cell_type": "code",
   "execution_count": 22,
   "outputs": [
    {
     "name": "stdout",
     "text": [
      "0\n",
      "1\n",
      "1\n",
      "2\n",
      "3\n",
      "5\n",
      "8\n",
      "13\n",
      "21\n",
      "34\n",
      "55\n",
      "89\n",
      "144\n",
      "233\n",
      "377\n",
      "610\n",
      "987\n",
      "1597\n",
      "()\n"
     ],
     "output_type": "stream"
    }
   ],
   "source": [
    "def fib(n):    # write Fibonacci series up to n\n",
    "    \"\"\"Print a Fibonacci series up to n.\"\"\"\n",
    "    a, b = 0, 1\n",
    "    while a < n:\n",
    "        print(a)\n",
    "        a, b = b, a+b\n",
    "    print()\n",
    "\n",
    "# Now call the function we just defined:\n",
    "fib(2000)"
   ],
   "metadata": {
    "collapsed": false,
    "pycharm": {
     "name": "#%%\n",
     "is_executing": false
    }
   }
  },
  {
   "cell_type": "code",
   "execution_count": 23,
   "outputs": [
    {
     "data": {
      "text/plain": "'pear'"
     },
     "metadata": {},
     "output_type": "execute_result",
     "execution_count": 23
    }
   ],
   "source": [
    "fruits = ['orange', 'apple', 'pear', 'banana', 'kiwi', 'apple', 'banana']\n",
    "fruits.count('apple')\n",
    "\n",
    "fruits.count('tangerine')\n",
    "\n",
    "fruits.index('banana')\n",
    "\n",
    "fruits.index('banana', 4)  # Find next banana starting a position 4\n",
    "\n",
    "fruits.reverse()\n",
    "fruits\n",
    "\n",
    "fruits.append('grape')\n",
    "fruits\n",
    "\n",
    "fruits.sort()\n",
    "fruits\n",
    "\n",
    "fruits.pop()"
   ],
   "metadata": {
    "collapsed": false,
    "pycharm": {
     "name": "#%%\n",
     "is_executing": false
    }
   }
  },
  {
   "cell_type": "code",
   "execution_count": 25,
   "outputs": [
    {
     "name": "stdout",
     "text": [
      "0\n",
      "1\n",
      "1\n",
      "2\n",
      "3\n",
      "5\n",
      "8\n",
      "()\n"
     ],
     "output_type": "stream"
    }
   ],
   "source": [
    "import fibo\n",
    "fibo.fib(10)"
   ],
   "metadata": {
    "collapsed": false,
    "pycharm": {
     "name": "#%%\n",
     "is_executing": false
    }
   }
  },
  {
   "cell_type": "code",
   "execution_count": 39,
   "outputs": [
    {
     "data": {
      "text/plain": "1"
     },
     "metadata": {},
     "output_type": "execute_result",
     "execution_count": 39
    }
   ],
   "source": [
    "mylist = [1,2,3,4,5]\n",
    "type(mylist)\n",
    "mylist.sort()\n",
    "mylist.count(1)"
   ],
   "metadata": {
    "collapsed": false,
    "pycharm": {
     "name": "#%%\n",
     "is_executing": false
    }
   }
  },
  {
   "cell_type": "code",
   "execution_count": 33,
   "outputs": [
    {
     "name": "stdout",
     "text": [
      "Peso is a great dog!\n",
      "Peso is sitting.\n"
     ],
     "output_type": "stream"
    }
   ],
   "source": [
    "class Dog(): \n",
    "    \"\"\"Represent a dog.\"\"\" \n",
    "    def __init__(self, name): \n",
    "        \"\"\"Initialize dog object.\"\"\" \n",
    "        self.name = name \n",
    "    def sit(self): \n",
    "        \"\"\"Simulate sitting.\"\"\" \n",
    "        print(self.name + \" is sitting.\") \n",
    "my_dog = Dog('Peso') \n",
    "print(my_dog.name + \" is a great dog!\") \n",
    "my_dog.sit()\n",
    "\n",
    "\n"
   ],
   "metadata": {
    "collapsed": false,
    "pycharm": {
     "name": "#%%\n",
     "is_executing": false
    }
   }
  },
  {
   "cell_type": "code",
   "source": [
    "my_dict = {\n",
    "  \"brand\": \"Ford\",\n",
    "  \"model\": \"Mustang\",\n",
    "  \"year\": 1964\n",
    "}\n",
    "\n",
    "print(my_dict)\n",
    "my_dict['brand']\n",
    "print(my_dict.keys())\n",
    "print(my_dict.values())"
   ],
   "metadata": {
    "collapsed": false,
    "pycharm": {
     "name": "#%%\n",
     "is_executing": false
    }
   },
   "execution_count": 44,
   "outputs": [
    {
     "name": "stdout",
     "text": [
      "{'brand': 'Ford', 'model': 'Mustang', 'year': 1964}\n",
      "['brand', 'model', 'year']\n",
      "['Ford', 'Mustang', 1964]\n"
     ],
     "output_type": "stream"
    }
   ]
  },
  {
   "cell_type": "code",
   "execution_count": 52,
   "outputs": [
    {
     "name": "stdout",
     "text": [
      "('brand', 'Ford')\n",
      "('model', 'Mustang')\n",
      "('year', 1964)\n"
     ],
     "output_type": "stream"
    }
   ],
   "source": [
    "for key, val in my_dict.items():\n",
    "    print(key,val)"
   ],
   "metadata": {
    "collapsed": false,
    "pycharm": {
     "name": "#%%\n",
     "is_executing": false
    }
   }
  },
  {
   "cell_type": "code",
   "execution_count": 62,
   "outputs": [
    {
     "ename": "NameError",
     "evalue": "name 'gg' is not defined",
     "traceback": [
      "\u001b[1;31m\u001b[0m",
      "\u001b[1;31mNameError\u001b[0mTraceback (most recent call last)",
      "\u001b[1;32m<ipython-input-62-26601b194c53>\u001b[0m in \u001b[0;36m<module>\u001b[1;34m()\u001b[0m\n\u001b[0;32m      1\u001b[0m \u001b[1;33m\u001b[0m\u001b[0m\n\u001b[1;32m----> 2\u001b[1;33m \u001b[0mxxx\u001b[0m \u001b[1;33m=\u001b[0m \u001b[0minput\u001b[0m\u001b[1;33m(\u001b[0m\u001b[1;34m'what is your first name'\u001b[0m\u001b[1;33m)\u001b[0m\u001b[1;33m\u001b[0m\u001b[0m\n\u001b[0m\u001b[0;32m      3\u001b[0m \u001b[1;32mprint\u001b[0m\u001b[1;33m(\u001b[0m\u001b[0mxxx\u001b[0m\u001b[1;33m)\u001b[0m\u001b[1;33m\u001b[0m\u001b[0m\n",
      "\u001b[1;32mc:\\users\\nicholas.manolakos\\pycharmprojects\\untitled\\venv\\lib\\site-packages\\ipykernel\\ipkernel.pyc\u001b[0m in \u001b[0;36m<lambda>\u001b[1;34m(prompt)\u001b[0m\n\u001b[0;32m    174\u001b[0m             \u001b[0mself\u001b[0m\u001b[1;33m.\u001b[0m\u001b[0m_sys_eval_input\u001b[0m \u001b[1;33m=\u001b[0m \u001b[0mbuiltin_mod\u001b[0m\u001b[1;33m.\u001b[0m\u001b[0minput\u001b[0m\u001b[1;33m\u001b[0m\u001b[0m\n\u001b[0;32m    175\u001b[0m             \u001b[0mbuiltin_mod\u001b[0m\u001b[1;33m.\u001b[0m\u001b[0mraw_input\u001b[0m \u001b[1;33m=\u001b[0m \u001b[0mself\u001b[0m\u001b[1;33m.\u001b[0m\u001b[0mraw_input\u001b[0m\u001b[1;33m\u001b[0m\u001b[0m\n\u001b[1;32m--> 176\u001b[1;33m             \u001b[0mbuiltin_mod\u001b[0m\u001b[1;33m.\u001b[0m\u001b[0minput\u001b[0m \u001b[1;33m=\u001b[0m \u001b[1;32mlambda\u001b[0m \u001b[0mprompt\u001b[0m\u001b[1;33m=\u001b[0m\u001b[1;34m''\u001b[0m\u001b[1;33m:\u001b[0m \u001b[0meval\u001b[0m\u001b[1;33m(\u001b[0m\u001b[0mself\u001b[0m\u001b[1;33m.\u001b[0m\u001b[0mraw_input\u001b[0m\u001b[1;33m(\u001b[0m\u001b[0mprompt\u001b[0m\u001b[1;33m)\u001b[0m\u001b[1;33m)\u001b[0m\u001b[1;33m\u001b[0m\u001b[0m\n\u001b[0m\u001b[0;32m    177\u001b[0m         \u001b[0mself\u001b[0m\u001b[1;33m.\u001b[0m\u001b[0m_save_getpass\u001b[0m \u001b[1;33m=\u001b[0m \u001b[0mgetpass\u001b[0m\u001b[1;33m.\u001b[0m\u001b[0mgetpass\u001b[0m\u001b[1;33m\u001b[0m\u001b[0m\n\u001b[0;32m    178\u001b[0m         \u001b[0mgetpass\u001b[0m\u001b[1;33m.\u001b[0m\u001b[0mgetpass\u001b[0m \u001b[1;33m=\u001b[0m \u001b[0mself\u001b[0m\u001b[1;33m.\u001b[0m\u001b[0mgetpass\u001b[0m\u001b[1;33m\u001b[0m\u001b[0m\n",
      "\u001b[1;32mc:\\users\\nicholas.manolakos\\pycharmprojects\\untitled\\venv\\lib\\site-packages\\ipykernel\\ipkernel.pyc\u001b[0m in \u001b[0;36m<module>\u001b[1;34m()\u001b[0m\n",
      "\u001b[1;31mNameError\u001b[0m: name 'gg' is not defined"
     ],
     "output_type": "error"
    }
   ],
   "source": [
    "xxx = input('what is your first name') \n",
    "print(xxx)"
   ],
   "metadata": {
    "collapsed": false,
    "pycharm": {
     "name": "#%%\n",
     "is_executing": false
    }
   }
  },
  {
   "cell_type": "code",
   "execution_count": 64,
   "outputs": [
    {
     "data": {
      "text/plain": "18"
     },
     "metadata": {},
     "output_type": "execute_result",
     "execution_count": 64
    }
   ],
   "source": [
    "import time\n",
    "now = time.localtime()\n",
    "now.tm_hour"
   ],
   "metadata": {
    "collapsed": false,
    "pycharm": {
     "name": "#%%\n",
     "is_executing": false
    }
   }
  },
  {
   "cell_type": "code",
   "execution_count": 66,
   "outputs": [
    {
     "name": "stdout",
     "text": [
      "{'TMP': 'C:\\\\Users\\\\NICHOL~1.MAN\\\\AppData\\\\Local\\\\Temp', 'COMPUTERNAME': 'L022858', '_OLD_VIRTUAL_PATH': 'C:\\\\Program Files (x86)\\\\Microsoft SDKs\\\\Azure\\\\CLI2\\\\wbin;C:\\\\Python27\\\\;C:\\\\Python27\\\\Scripts;C:\\\\Program Files (x86)\\\\Common Files\\\\Oracle\\\\Java\\\\javapath;C:\\\\ProgramData\\\\Oracle\\\\Java\\\\javapath;C:\\\\WINDOWS\\\\system32;C:\\\\WINDOWS;C:\\\\WINDOWS\\\\System32\\\\Wbem;C:\\\\WINDOWS\\\\System32\\\\WindowsPowerShell\\\\v1.0\\\\;C:\\\\WINDOWS\\\\System32\\\\OpenSSH\\\\;C:\\\\Program Files (x86)\\\\Microsoft VS Code\\\\bin;C:\\\\Program Files\\\\nodejs\\\\;C:\\\\ProgramData\\\\chocolatey\\\\bin;C:\\\\Program Files\\\\Amazon\\\\AWSCLI\\\\bin\\\\;C:\\\\Program Files\\\\Microsoft SQL Server\\\\130\\\\Tools\\\\Binn\\\\;C:\\\\Program Files\\\\Microsoft SQL Server\\\\Client SDK\\\\ODBC\\\\170\\\\Tools\\\\Binn\\\\;C:\\\\Program Files\\\\dotnet\\\\;C:\\\\Program Files\\\\Docker\\\\Docker\\\\resources\\\\bin;C:\\\\ProgramData\\\\DockerDesktop\\\\version-bin;C:\\\\Program Files (x86)\\\\Microsoft SQL Server\\\\150\\\\DTS\\\\Binn\\\\;C:\\\\Users\\\\Nicholas.Manolakos\\\\AppData\\\\Local\\\\Microsoft\\\\WindowsApps;C:\\\\Users\\\\Nicholas.Manolakos\\\\AppData\\\\Local\\\\GitHubDesktop\\\\bin;C:\\\\Users\\\\Nicholas.Manolakos\\\\AppData\\\\Local\\\\Programs\\\\Git\\\\cmd;C:\\\\Users\\\\Nicholas.Manolakos\\\\AppData\\\\Roaming\\\\npm;C:\\\\Users\\\\Nicholas.Manolakos\\\\AppData\\\\Local\\\\Programs\\\\Azure Data Studio\\\\bin', 'USERDOMAIN': 'RCI', 'PSMODULEPATH': 'C:\\\\Program Files\\\\WindowsPowerShell\\\\Modules;C:\\\\WINDOWS\\\\system32\\\\WindowsPowerShell\\\\v1.0\\\\Modules', 'COMMONPROGRAMFILES': 'C:\\\\Program Files\\\\Common Files', 'PROCESSOR_IDENTIFIER': 'Intel64 Family 6 Model 142 Stepping 10, GenuineIntel', 'PROGRAMFILES': 'C:\\\\Program Files', 'PROCESSOR_REVISION': '8e0a', 'PATH': 'c:\\\\users\\\\nicholas.manolakos\\\\pycharmprojects\\\\untitled\\\\venv\\\\lib\\\\site-packages\\\\pywin32_system32;c:\\\\users\\\\nicholas.manolakos\\\\pycharmprojects\\\\untitled\\\\venv\\\\lib\\\\site-packages\\\\pywin32_system32;C:\\\\Users\\\\Nicholas.Manolakos\\\\PycharmProjects\\\\untitled\\\\venv\\\\Scripts;C:\\\\Program Files (x86)\\\\Microsoft SDKs\\\\Azure\\\\CLI2\\\\wbin;C:\\\\Python27\\\\;C:\\\\Python27\\\\Scripts;C:\\\\Program Files (x86)\\\\Common Files\\\\Oracle\\\\Java\\\\javapath;C:\\\\ProgramData\\\\Oracle\\\\Java\\\\javapath;C:\\\\WINDOWS\\\\system32;C:\\\\WINDOWS;C:\\\\WINDOWS\\\\System32\\\\Wbem;C:\\\\WINDOWS\\\\System32\\\\WindowsPowerShell\\\\v1.0\\\\;C:\\\\WINDOWS\\\\System32\\\\OpenSSH\\\\;C:\\\\Program Files (x86)\\\\Microsoft VS Code\\\\bin;C:\\\\Program Files\\\\nodejs\\\\;C:\\\\ProgramData\\\\chocolatey\\\\bin;C:\\\\Program Files\\\\Amazon\\\\AWSCLI\\\\bin\\\\;C:\\\\Program Files\\\\Microsoft SQL Server\\\\130\\\\Tools\\\\Binn\\\\;C:\\\\Program Files\\\\Microsoft SQL Server\\\\Client SDK\\\\ODBC\\\\170\\\\Tools\\\\Binn\\\\;C:\\\\Program Files\\\\dotnet\\\\;C:\\\\Program Files\\\\Docker\\\\Docker\\\\resources\\\\bin;C:\\\\ProgramData\\\\DockerDesktop\\\\version-bin;C:\\\\Program Files (x86)\\\\Microsoft SQL Server\\\\150\\\\DTS\\\\Binn\\\\;C:\\\\Users\\\\Nicholas.Manolakos\\\\AppData\\\\Local\\\\Microsoft\\\\WindowsApps;C:\\\\Users\\\\Nicholas.Manolakos\\\\AppData\\\\Local\\\\GitHubDesktop\\\\bin;C:\\\\Users\\\\Nicholas.Manolakos\\\\AppData\\\\Local\\\\Programs\\\\Git\\\\cmd;C:\\\\Users\\\\Nicholas.Manolakos\\\\AppData\\\\Roaming\\\\npm;C:\\\\Users\\\\Nicholas.Manolakos\\\\AppData\\\\Local\\\\Programs\\\\Azure Data Studio\\\\bin', 'SYSTEMROOT': 'C:\\\\WINDOWS', 'CLICOLOR': '1', 'CHOCOLATEYLASTPATHUPDATE': '132173020174377808', 'DRIVERDATA': 'C:\\\\Windows\\\\System32\\\\Drivers\\\\DriverData', 'MPLBACKEND': 'module://ipykernel.pylab.backend_inline', 'VIRTUAL_ENV': 'C:\\\\Users\\\\Nicholas.Manolakos\\\\PycharmProjects\\\\untitled\\\\venv', 'TEMP': 'C:\\\\Users\\\\NICHOL~1.MAN\\\\AppData\\\\Local\\\\Temp', 'UIPATH_LANGUAGE': 'en', 'COMMONPROGRAMFILES(X86)': 'C:\\\\Program Files (x86)\\\\Common Files', 'PROCESSOR_ARCHITECTURE': 'AMD64', 'CHOCOLATEYINSTALL': 'C:\\\\ProgramData\\\\chocolatey', 'PROGRAMFILES(X86)': 'C:\\\\Program Files (x86)', 'ALLUSERSPROFILE': 'C:\\\\ProgramData', 'LOCALAPPDATA': 'C:\\\\Users\\\\Nicholas.Manolakos\\\\AppData\\\\Local', 'HOMEPATH': '\\\\Users\\\\Nicholas.Manolakos', 'USERDOMAIN_ROAMINGPROFILE': 'RCI', 'JPY_INTERRUPT_EVENT': '1424', 'PROGRAMW6432': 'C:\\\\Program Files', 'USERNAME': 'Nicholas.Manolakos', 'LOGONSERVER': '\\\\\\\\VMBRARCIDC1', 'PROMPT': '(venv) $P$G', 'COMSPEC': 'C:\\\\WINDOWS\\\\system32\\\\cmd.exe', 'JPY_PARENT_PID': '1440', 'PROGRAMDATA': 'C:\\\\ProgramData', 'PYTHONPATH': 'C:\\\\Users\\\\Nicholas.Manolakos\\\\PycharmProjects\\\\untitled', 'ONEDRIVE': 'C:\\\\Users\\\\Nicholas.Manolakos\\\\OneDrive - Rogers Communications Inc', 'TERM': 'xterm-color', 'USERDNSDOMAIN': 'RCI.ROGERS.CA', 'GIT_PAGER': 'cat', 'IDEA_INITIAL_DIRECTORY': 'C:\\\\Program Files\\\\JetBrains\\\\PyCharm 2019.3.3\\\\bin', 'UATDATA': 'C:\\\\WINDOWS\\\\CCM\\\\UATData\\\\D9F8C395-CAB8-491d-B8AC-179A1FE1BE77', 'PATHEXT': '.COM;.EXE;.BAT;.CMD;.VBS;.VBE;.JS;.JSE;.WSF;.WSH;.MSC', 'SESSIONNAME': 'Console', 'ONEDRIVECOMMERCIAL': 'C:\\\\Users\\\\Nicholas.Manolakos\\\\OneDrive - Rogers Communications Inc', 'WINDIR': 'C:\\\\WINDOWS', 'HOMEDRIVE': 'C:', 'APPDATA': 'C:\\\\Users\\\\Nicholas.Manolakos\\\\AppData\\\\Roaming', 'PAGER': 'cat', 'SYSTEMDRIVE': 'C:', 'NUMBER_OF_PROCESSORS': '8', '_OLD_VIRTUAL_PROMPT': '$P$G', 'PROCESSOR_LEVEL': '6', 'COMMONPROGRAMW6432': 'C:\\\\Program Files\\\\Common Files', 'OS': 'Windows_NT', 'PUBLIC': 'C:\\\\Users\\\\Public', 'IPY_INTERRUPT_EVENT': '1424', 'USERPROFILE': 'C:\\\\Users\\\\Nicholas.Manolakos'}\n"
     ],
     "output_type": "stream"
    }
   ],
   "source": [
    "import os\n",
    "stage = os.environ\n",
    "print(stage)\n"
   ],
   "metadata": {
    "collapsed": false,
    "pycharm": {
     "name": "#%%\n",
     "is_executing": false
    }
   }
  },
  {
   "cell_type": "code",
   "execution_count": 73,
   "outputs": [
    {
     "name": "stdout",
     "text": [
      "Storm\n",
      "Wolverine\n",
      "Cyclops\n",
      "Bishop\n",
      "Nightcrawler\n"
     ],
     "output_type": "stream"
    }
   ],
   "source": [
    "file = open('data.txt', 'r')\n",
    "print(file.read())\n",
    "file.close()"
   ],
   "metadata": {
    "collapsed": false,
    "pycharm": {
     "name": "#%%\n",
     "is_executing": false
    }
   }
  },
  {
   "cell_type": "code",
   "execution_count": 7,
   "outputs": [
    {
     "name": "stdout",
     "text": [
      "First arg C:\\Users\\Nicholas.Manolakos\\AppData\\Local\\Programs\\Python\\Python38-32\\lib\\site-packages\\ipykernel_launcher.py\n"
     ],
     "output_type": "stream"
    },
    {
     "ename": "FileNotFoundError",
     "evalue": "[WinError 2] The system cannot find the file specified",
     "traceback": [
      "\u001b[1;31m---------------------------------------------------------------------------\u001b[0m",
      "\u001b[1;31mFileNotFoundError\u001b[0m                         Traceback (most recent call last)",
      "\u001b[1;32m<ipython-input-7-06fe1f421426>\u001b[0m in \u001b[0;36m<module>\u001b[1;34m\u001b[0m\n\u001b[0;32m      4\u001b[0m \u001b[1;31m#import argparse\u001b[0m\u001b[1;33m\u001b[0m\u001b[1;33m\u001b[0m\u001b[1;33m\u001b[0m\u001b[0m\n\u001b[0;32m      5\u001b[0m \u001b[0mprint\u001b[0m\u001b[1;33m(\u001b[0m\u001b[1;34mf\"First arg {sys.argv[0]}\"\u001b[0m\u001b[1;33m)\u001b[0m\u001b[1;33m\u001b[0m\u001b[1;33m\u001b[0m\u001b[0m\n\u001b[1;32m----> 6\u001b[1;33m proc = subprocess.run(['ls', '-l'],\n\u001b[0m\u001b[0;32m      7\u001b[0m                       \u001b[0mstdout\u001b[0m\u001b[1;33m=\u001b[0m\u001b[0msubprocess\u001b[0m\u001b[1;33m.\u001b[0m\u001b[0mPIPE\u001b[0m\u001b[1;33m,\u001b[0m\u001b[1;33m\u001b[0m\u001b[1;33m\u001b[0m\u001b[0m\n\u001b[0;32m      8\u001b[0m                       stderr=subprocess.PIPE)\n",
      "\u001b[1;32m~\\AppData\\Local\\Programs\\Python\\Python38-32\\lib\\subprocess.py\u001b[0m in \u001b[0;36mrun\u001b[1;34m(input, capture_output, timeout, check, *popenargs, **kwargs)\u001b[0m\n\u001b[0;32m    487\u001b[0m         \u001b[0mkwargs\u001b[0m\u001b[1;33m[\u001b[0m\u001b[1;34m'stderr'\u001b[0m\u001b[1;33m]\u001b[0m \u001b[1;33m=\u001b[0m \u001b[0mPIPE\u001b[0m\u001b[1;33m\u001b[0m\u001b[1;33m\u001b[0m\u001b[0m\n\u001b[0;32m    488\u001b[0m \u001b[1;33m\u001b[0m\u001b[0m\n\u001b[1;32m--> 489\u001b[1;33m     \u001b[1;32mwith\u001b[0m \u001b[0mPopen\u001b[0m\u001b[1;33m(\u001b[0m\u001b[1;33m*\u001b[0m\u001b[0mpopenargs\u001b[0m\u001b[1;33m,\u001b[0m \u001b[1;33m**\u001b[0m\u001b[0mkwargs\u001b[0m\u001b[1;33m)\u001b[0m \u001b[1;32mas\u001b[0m \u001b[0mprocess\u001b[0m\u001b[1;33m:\u001b[0m\u001b[1;33m\u001b[0m\u001b[1;33m\u001b[0m\u001b[0m\n\u001b[0m\u001b[0;32m    490\u001b[0m         \u001b[1;32mtry\u001b[0m\u001b[1;33m:\u001b[0m\u001b[1;33m\u001b[0m\u001b[1;33m\u001b[0m\u001b[0m\n\u001b[0;32m    491\u001b[0m             \u001b[0mstdout\u001b[0m\u001b[1;33m,\u001b[0m \u001b[0mstderr\u001b[0m \u001b[1;33m=\u001b[0m \u001b[0mprocess\u001b[0m\u001b[1;33m.\u001b[0m\u001b[0mcommunicate\u001b[0m\u001b[1;33m(\u001b[0m\u001b[0minput\u001b[0m\u001b[1;33m,\u001b[0m \u001b[0mtimeout\u001b[0m\u001b[1;33m=\u001b[0m\u001b[0mtimeout\u001b[0m\u001b[1;33m)\u001b[0m\u001b[1;33m\u001b[0m\u001b[1;33m\u001b[0m\u001b[0m\n",
      "\u001b[1;32m~\\AppData\\Local\\Programs\\Python\\Python38-32\\lib\\subprocess.py\u001b[0m in \u001b[0;36m__init__\u001b[1;34m(self, args, bufsize, executable, stdin, stdout, stderr, preexec_fn, close_fds, shell, cwd, env, universal_newlines, startupinfo, creationflags, restore_signals, start_new_session, pass_fds, encoding, errors, text)\u001b[0m\n\u001b[0;32m    852\u001b[0m                             encoding=encoding, errors=errors)\n\u001b[0;32m    853\u001b[0m \u001b[1;33m\u001b[0m\u001b[0m\n\u001b[1;32m--> 854\u001b[1;33m             self._execute_child(args, executable, preexec_fn, close_fds,\n\u001b[0m\u001b[0;32m    855\u001b[0m                                 \u001b[0mpass_fds\u001b[0m\u001b[1;33m,\u001b[0m \u001b[0mcwd\u001b[0m\u001b[1;33m,\u001b[0m \u001b[0menv\u001b[0m\u001b[1;33m,\u001b[0m\u001b[1;33m\u001b[0m\u001b[1;33m\u001b[0m\u001b[0m\n\u001b[0;32m    856\u001b[0m                                 \u001b[0mstartupinfo\u001b[0m\u001b[1;33m,\u001b[0m \u001b[0mcreationflags\u001b[0m\u001b[1;33m,\u001b[0m \u001b[0mshell\u001b[0m\u001b[1;33m,\u001b[0m\u001b[1;33m\u001b[0m\u001b[1;33m\u001b[0m\u001b[0m\n",
      "\u001b[1;32m~\\AppData\\Local\\Programs\\Python\\Python38-32\\lib\\subprocess.py\u001b[0m in \u001b[0;36m_execute_child\u001b[1;34m(self, args, executable, preexec_fn, close_fds, pass_fds, cwd, env, startupinfo, creationflags, shell, p2cread, p2cwrite, c2pread, c2pwrite, errread, errwrite, unused_restore_signals, unused_start_new_session)\u001b[0m\n\u001b[0;32m   1305\u001b[0m             \u001b[1;31m# Start the process\u001b[0m\u001b[1;33m\u001b[0m\u001b[1;33m\u001b[0m\u001b[1;33m\u001b[0m\u001b[0m\n\u001b[0;32m   1306\u001b[0m             \u001b[1;32mtry\u001b[0m\u001b[1;33m:\u001b[0m\u001b[1;33m\u001b[0m\u001b[1;33m\u001b[0m\u001b[0m\n\u001b[1;32m-> 1307\u001b[1;33m                 hp, ht, pid, tid = _winapi.CreateProcess(executable, args,\n\u001b[0m\u001b[0;32m   1308\u001b[0m                                          \u001b[1;31m# no special security\u001b[0m\u001b[1;33m\u001b[0m\u001b[1;33m\u001b[0m\u001b[1;33m\u001b[0m\u001b[0m\n\u001b[0;32m   1309\u001b[0m                                          \u001b[1;32mNone\u001b[0m\u001b[1;33m,\u001b[0m \u001b[1;32mNone\u001b[0m\u001b[1;33m,\u001b[0m\u001b[1;33m\u001b[0m\u001b[1;33m\u001b[0m\u001b[0m\n",
      "\u001b[1;31mFileNotFoundError\u001b[0m: [WinError 2] The system cannot find the file specified"
     ],
     "output_type": "error"
    }
   ],
   "source": [
    "# for scripts\n",
    "import sys\n",
    "import subprocess\n",
    "#import argparse\n",
    "print(f\"First arg {sys.argv[0]}\")\n",
    "proc = subprocess.run(['ls', '-l'],\n",
    "                      stdout=subprocess.PIPE,\n",
    "                      stderr=subprocess.PIPE)\n",
    "sys.exit(1)"
   ],
   "metadata": {
    "collapsed": false,
    "pycharm": {
     "name": "#%%\n",
     "is_executing": false
    }
   }
  },
  {
   "cell_type": "code",
   "execution_count": 5,
   "outputs": [
    {
     "name": "stdout",
     "text": [
      "ok\n",
      "finally\n"
     ],
     "output_type": "stream"
    }
   ],
   "source": [
    "try:\n",
    "    print(\"ok\")\n",
    "except FileNotFoundError as err:\n",
    "    print(f\"Error: {err}\")\n",
    "except:\n",
    "    print(f\"Error: all\")    \n",
    "finally:\n",
    "    print(\"finally\")"
   ],
   "metadata": {
    "collapsed": false,
    "pycharm": {
     "name": "#%%\n",
     "is_executing": false
    }
   }
  },
  {
   "cell_type": "code",
   "execution_count": 17,
   "outputs": [
    {
     "name": "stdout",
     "text": [
      "['data.txt', 'fibo.py', 'fibo.pyc', 'notebook-1.ipynb']\n"
     ],
     "output_type": "stream"
    }
   ],
   "source": [
    "# popular imports\n",
    "import random\n",
    "import json\n",
    "import glob\n",
    "import re\n",
    "import os\n",
    "import shutil\n",
    "\n",
    "#shutil.copyfile('data.db', 'archive.db')\n",
    "#sys.stderr.write('Warning, log file not found starting a new one\\n')\n",
    "#re.findall(r'\\bf[a-z]*', 'which foot or hand fell fastest')\n",
    "\n",
    "\n",
    "x = random.randint(1,10)\n",
    "x\n",
    "\n",
    "search = glob.glob('*.*')\n",
    "print(search)"
   ],
   "metadata": {
    "collapsed": false,
    "pycharm": {
     "name": "#%%\n",
     "is_executing": false
    }
   }
  },
  {
   "cell_type": "code",
   "execution_count": 1,
   "outputs": [
    {
     "data": {
      "text/plain": "1.25"
     },
     "metadata": {},
     "output_type": "execute_result",
     "execution_count": 1
    }
   ],
   "source": [
    "import math\n",
    "import statistics\n",
    "\n",
    "#math.cos(math.pi / 4)\n",
    "data = [2.75, 1.75, 1.25, 0.25, 0.5, 1.25, 3.5]\n",
    "statistics.median(data)\n"
   ],
   "metadata": {
    "collapsed": false,
    "pycharm": {
     "name": "#%%\n",
     "is_executing": false
    }
   }
  },
  {
   "cell_type": "code",
   "execution_count": 2,
   "outputs": [
    {
     "name": "stderr",
     "text": [
      "WARNING:root:Warning:config file server.conf not found\n",
      "ERROR:root:Error occurred\n",
      "CRITICAL:root:Critical error -- shutting down\n"
     ],
     "output_type": "stream"
    }
   ],
   "source": [
    "import logging\n",
    "logging.debug('Debugging information')\n",
    "logging.info('Informational message')\n",
    "logging.warning('Warning:config file %s not found', 'server.conf')\n",
    "logging.error('Error occurred')\n",
    "logging.critical('Critical error -- shutting down')\n"
   ],
   "metadata": {
    "collapsed": false,
    "pycharm": {
     "name": "#%%\n",
     "is_executing": false
    }
   }
  }
 ],
 "metadata": {
  "kernelspec": {
   "name": "pycharm-8859d9a2",
   "language": "python",
   "display_name": "PyCharm (untitled)"
  },
  "language_info": {
   "codemirror_mode": {
    "name": "ipython",
    "version": 2
   },
   "file_extension": ".py",
   "mimetype": "text/x-python",
   "name": "python",
   "nbconvert_exporter": "python",
   "pygments_lexer": "ipython2",
   "version": "2.7.6"
  },
  "pycharm": {
   "stem_cell": {
    "cell_type": "raw",
    "source": [],
    "metadata": {
     "collapsed": false
    }
   }
  }
 },
 "nbformat": 4,
 "nbformat_minor": 0
}