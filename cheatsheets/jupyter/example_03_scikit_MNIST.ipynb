{
 "cells": [
  {
   "cell_type": "code",
   "execution_count": 1,
   "metadata": {},
   "outputs": [
    {
     "data": {
      "text/plain": [
       "array([[  0.,   0.,   9.,  14.,   8.,   1.,   0.,   0.],\n",
       "       [  0.,   0.,  12.,  14.,  14.,  12.,   0.,   0.],\n",
       "       [  0.,   0.,   9.,  10.,   0.,  15.,   4.,   0.],\n",
       "       [  0.,   0.,   3.,  16.,  12.,  14.,   2.,   0.],\n",
       "       [  0.,   0.,   4.,  16.,  16.,   2.,   0.,   0.],\n",
       "       [  0.,   3.,  16.,   8.,  10.,  13.,   2.,   0.],\n",
       "       [  0.,   1.,  15.,   1.,   3.,  16.,   8.,   0.],\n",
       "       [  0.,   0.,  11.,  16.,  15.,  11.,   1.,   0.]])"
      ]
     },
     "execution_count": 1,
     "metadata": {},
     "output_type": "execute_result"
    }
   ],
   "source": [
    "from sklearn import datasets\n",
    "import matplotlib.pyplot as plt\n",
    "\n",
    "iris = datasets.load_iris()\n",
    "digits = datasets.load_digits()\n",
    "digits.images[8]"
   ]
  },
  {
   "cell_type": "code",
   "execution_count": 2,
   "metadata": {},
   "outputs": [
    {
     "data": {
      "text/plain": [
       "numpy.ndarray"
      ]
     },
     "execution_count": 2,
     "metadata": {},
     "output_type": "execute_result"
    }
   ],
   "source": [
    "type(iris.data[0])"
   ]
  },
  {
   "cell_type": "code",
   "execution_count": 3,
   "metadata": {},
   "outputs": [
    {
     "data": {
      "image/png": "[encoded data removed]",
      "text/plain": [
       "<matplotlib.figure.Figure at 0x1a0828da90>"
      ]
     },
     "metadata": {},
     "output_type": "display_data"
    }
   ],
   "source": [
    "#Display the first digit\n",
    "plt.figure(1, figsize=(3, 3))\n",
    "plt.imshow(digits.images[-1], cmap=plt.cm.gray_r, interpolation='nearest')\n",
    "plt.show()"
   ]
  },
  {
   "cell_type": "code",
   "execution_count": 4,
   "metadata": {},
   "outputs": [
    {
     "data": {
      "text/plain": [
       "array([[  0.,   0.,  10.,  14.,   8.,   1.,   0.,   0.],\n",
       "       [  0.,   2.,  16.,  14.,   6.,   1.,   0.,   0.],\n",
       "       [  0.,   0.,  15.,  15.,   8.,  15.,   0.,   0.],\n",
       "       [  0.,   0.,   5.,  16.,  16.,  10.,   0.,   0.],\n",
       "       [  0.,   0.,  12.,  15.,  15.,  12.,   0.,   0.],\n",
       "       [  0.,   4.,  16.,   6.,   4.,  16.,   6.,   0.],\n",
       "       [  0.,   8.,  16.,  10.,   8.,  16.,   8.,   0.],\n",
       "       [  0.,   1.,   8.,  12.,  14.,  12.,   1.,   0.]])"
      ]
     },
     "metadata": {},
     "output_type": "display_data"
    }
   ],
   "source": [
    "display(digits.images[-1])"
   ]
  },
  {
   "cell_type": "code",
   "execution_count": null,
   "metadata": {
    "collapsed": true
   },
   "outputs": [],
   "source": []
  }
 ],
 "metadata": {
  "kernelspec": {
   "display_name": "Python 3",
   "language": "python",
   "name": "python3"
  },
  "language_info": {
   "codemirror_mode": {
    "name": "ipython",
    "version": 3
   },
   "file_extension": ".py",
   "mimetype": "text/x-python",
   "name": "python",
   "nbconvert_exporter": "python",
   "pygments_lexer": "ipython3",
   "version": "3.6.3"
  }
 },
 "nbformat": 4,
 "nbformat_minor": 2
}
